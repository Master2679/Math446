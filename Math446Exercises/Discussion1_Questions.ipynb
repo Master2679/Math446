{
 "cells": [
  {
   "cell_type": "code",
   "execution_count": 1,
   "id": "c9a1ef21-c296-432d-9355-1ec558df5db8",
   "metadata": {},
   "outputs": [],
   "source": [
    "import numpy as np\n",
    "import pandas as pd\n",
    "import seaborn as sns\n",
    "import math"
   ]
  },
  {
   "cell_type": "code",
   "execution_count": 2,
   "id": "6a808b02-8793-4763-9040-ba5eef5d5b8a",
   "metadata": {},
   "outputs": [],
   "source": [
    "def prime(start=2, n=1):\n",
    "    prime_list = []\n",
    "    i = start\n",
    "    flag = True\n",
    "    if(i<2):\n",
    "        i = 2\n",
    "    while n > 0:\n",
    "        for l in range(2,math.floor(math.sqrt(i) + 1)):\n",
    "            if(i%l == 0):\n",
    "                flag = False\n",
    "                break\n",
    "        if(flag):\n",
    "            prime_list.append(i)\n",
    "            n = n - 1\n",
    "        i = i + 1\n",
    "        flag = True\n",
    "    return prime_list\n",
    "                    \n",
    "    "
   ]
  },
  {
   "cell_type": "code",
   "execution_count": 3,
   "id": "9895736a-d97e-45d1-9d1f-77cf779cb007",
   "metadata": {},
   "outputs": [
    {
     "name": "stdout",
     "output_type": "stream",
     "text": [
      "[2, 3, 5, 7, 11, 13, 17, 19, 23, 29, 31, 37, 41, 43, 47, 53, 59, 61, 67, 71, 73, 79, 83, 89, 97, 101, 103, 107, 109, 113, 127, 131, 137, 139, 149, 151, 157, 163, 167, 173, 179, 181, 191, 193, 197, 199, 211, 223, 227, 229, 233, 239, 241, 251, 257, 263, 269, 271, 277, 281, 283, 293, 307, 311, 313, 317, 331, 337, 347, 349, 353, 359, 367, 373, 379, 383, 389, 397, 401, 409, 419, 421, 431, 433, 439, 443, 449, 457, 461, 463, 467, 479, 487, 491, 499, 503, 509, 521, 523, 541]\n"
     ]
    }
   ],
   "source": [
    "print(prime(1,100))"
   ]
  },
  {
   "cell_type": "markdown",
   "id": "93bf2807-ac01-4cca-911f-278a04b6daa5",
   "metadata": {},
   "source": [
    "### Question3\n"
   ]
  },
  {
   "cell_type": "code",
   "execution_count": 4,
   "id": "d00421dd-cddb-40f5-80ab-45cec91d0503",
   "metadata": {},
   "outputs": [
    {
     "data": {
      "text/plain": [
       "3.1415494"
      ]
     },
     "execution_count": 4,
     "metadata": {},
     "output_type": "execute_result"
    }
   ],
   "source": [
    "n = 10 ** 8\n",
    "x = np.random.uniform(-1,1,n)\n",
    "y = np.random.uniform(-1,1,n)\n",
    "4*(np.sum(((x**2 + y**2)**0.5 <=1)) / n)\n",
    "    "
   ]
  },
  {
   "cell_type": "code",
   "execution_count": null,
   "id": "2a5ee8b8-3509-4a38-acca-bcd920750b9f",
   "metadata": {},
   "outputs": [],
   "source": []
  }
 ],
 "metadata": {
  "kernelspec": {
   "display_name": "Python 3 (ipykernel)",
   "language": "python",
   "name": "python3"
  },
  "language_info": {
   "codemirror_mode": {
    "name": "ipython",
    "version": 3
   },
   "file_extension": ".py",
   "mimetype": "text/x-python",
   "name": "python",
   "nbconvert_exporter": "python",
   "pygments_lexer": "ipython3",
   "version": "3.12.8"
  }
 },
 "nbformat": 4,
 "nbformat_minor": 5
}
