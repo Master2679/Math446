{
 "cells": [
  {
   "cell_type": "markdown",
   "id": "cd7568b8-9a53-4b22-b33a-4c058e3e6dcd",
   "metadata": {},
   "source": [
    "## Question 1\n",
    "#### Part a"
   ]
  },
  {
   "cell_type": "code",
   "execution_count": 1,
   "id": "10923ff4-91d4-4736-9b45-31b21abe993a",
   "metadata": {},
   "outputs": [],
   "source": [
    "import numpy as np\n",
    "import seaborn as sns\n",
    "import pandas as pd"
   ]
  },
  {
   "cell_type": "code",
   "execution_count": 2,
   "id": "c55c8570-8225-423c-a324-f6b3bedc0e0e",
   "metadata": {},
   "outputs": [],
   "source": [
    "adultdf = pd.read_csv('adult.data')"
   ]
  },
  {
   "cell_type": "code",
   "execution_count": 3,
   "id": "dfe7944a-a14e-45cc-a3de-f5ea20e37cc9",
   "metadata": {},
   "outputs": [
    {
     "data": {
      "text/plain": [
       "(32560, 15)"
      ]
     },
     "execution_count": 3,
     "metadata": {},
     "output_type": "execute_result"
    }
   ],
   "source": [
    "adultdf.shape"
   ]
  },
  {
   "cell_type": "code",
   "execution_count": 4,
   "id": "c0fc805e-5c9f-4e23-88e0-81c29dbb59ea",
   "metadata": {},
   "outputs": [
    {
     "data": {
      "text/html": [
       "<div>\n",
       "<style scoped>\n",
       "    .dataframe tbody tr th:only-of-type {\n",
       "        vertical-align: middle;\n",
       "    }\n",
       "\n",
       "    .dataframe tbody tr th {\n",
       "        vertical-align: top;\n",
       "    }\n",
       "\n",
       "    .dataframe thead th {\n",
       "        text-align: right;\n",
       "    }\n",
       "</style>\n",
       "<table border=\"1\" class=\"dataframe\">\n",
       "  <thead>\n",
       "    <tr style=\"text-align: right;\">\n",
       "      <th></th>\n",
       "      <th>39</th>\n",
       "      <th>State-gov</th>\n",
       "      <th>77516</th>\n",
       "      <th>Bachelors</th>\n",
       "      <th>13</th>\n",
       "      <th>Never-married</th>\n",
       "      <th>Adm-clerical</th>\n",
       "      <th>Not-in-family</th>\n",
       "      <th>White</th>\n",
       "      <th>Male</th>\n",
       "      <th>2174</th>\n",
       "      <th>0</th>\n",
       "      <th>40</th>\n",
       "      <th>United-States</th>\n",
       "      <th>&lt;=50K</th>\n",
       "    </tr>\n",
       "  </thead>\n",
       "  <tbody>\n",
       "    <tr>\n",
       "      <th>0</th>\n",
       "      <td>50</td>\n",
       "      <td>Self-emp-not-inc</td>\n",
       "      <td>83311</td>\n",
       "      <td>Bachelors</td>\n",
       "      <td>13</td>\n",
       "      <td>Married-civ-spouse</td>\n",
       "      <td>Exec-managerial</td>\n",
       "      <td>Husband</td>\n",
       "      <td>White</td>\n",
       "      <td>Male</td>\n",
       "      <td>0</td>\n",
       "      <td>0</td>\n",
       "      <td>13</td>\n",
       "      <td>United-States</td>\n",
       "      <td>&lt;=50K</td>\n",
       "    </tr>\n",
       "    <tr>\n",
       "      <th>1</th>\n",
       "      <td>38</td>\n",
       "      <td>Private</td>\n",
       "      <td>215646</td>\n",
       "      <td>HS-grad</td>\n",
       "      <td>9</td>\n",
       "      <td>Divorced</td>\n",
       "      <td>Handlers-cleaners</td>\n",
       "      <td>Not-in-family</td>\n",
       "      <td>White</td>\n",
       "      <td>Male</td>\n",
       "      <td>0</td>\n",
       "      <td>0</td>\n",
       "      <td>40</td>\n",
       "      <td>United-States</td>\n",
       "      <td>&lt;=50K</td>\n",
       "    </tr>\n",
       "    <tr>\n",
       "      <th>2</th>\n",
       "      <td>53</td>\n",
       "      <td>Private</td>\n",
       "      <td>234721</td>\n",
       "      <td>11th</td>\n",
       "      <td>7</td>\n",
       "      <td>Married-civ-spouse</td>\n",
       "      <td>Handlers-cleaners</td>\n",
       "      <td>Husband</td>\n",
       "      <td>Black</td>\n",
       "      <td>Male</td>\n",
       "      <td>0</td>\n",
       "      <td>0</td>\n",
       "      <td>40</td>\n",
       "      <td>United-States</td>\n",
       "      <td>&lt;=50K</td>\n",
       "    </tr>\n",
       "    <tr>\n",
       "      <th>3</th>\n",
       "      <td>28</td>\n",
       "      <td>Private</td>\n",
       "      <td>338409</td>\n",
       "      <td>Bachelors</td>\n",
       "      <td>13</td>\n",
       "      <td>Married-civ-spouse</td>\n",
       "      <td>Prof-specialty</td>\n",
       "      <td>Wife</td>\n",
       "      <td>Black</td>\n",
       "      <td>Female</td>\n",
       "      <td>0</td>\n",
       "      <td>0</td>\n",
       "      <td>40</td>\n",
       "      <td>Cuba</td>\n",
       "      <td>&lt;=50K</td>\n",
       "    </tr>\n",
       "    <tr>\n",
       "      <th>4</th>\n",
       "      <td>37</td>\n",
       "      <td>Private</td>\n",
       "      <td>284582</td>\n",
       "      <td>Masters</td>\n",
       "      <td>14</td>\n",
       "      <td>Married-civ-spouse</td>\n",
       "      <td>Exec-managerial</td>\n",
       "      <td>Wife</td>\n",
       "      <td>White</td>\n",
       "      <td>Female</td>\n",
       "      <td>0</td>\n",
       "      <td>0</td>\n",
       "      <td>40</td>\n",
       "      <td>United-States</td>\n",
       "      <td>&lt;=50K</td>\n",
       "    </tr>\n",
       "  </tbody>\n",
       "</table>\n",
       "</div>"
      ],
      "text/plain": [
       "   39          State-gov   77516   Bachelors   13        Never-married  \\\n",
       "0  50   Self-emp-not-inc   83311   Bachelors   13   Married-civ-spouse   \n",
       "1  38            Private  215646     HS-grad    9             Divorced   \n",
       "2  53            Private  234721        11th    7   Married-civ-spouse   \n",
       "3  28            Private  338409   Bachelors   13   Married-civ-spouse   \n",
       "4  37            Private  284582     Masters   14   Married-civ-spouse   \n",
       "\n",
       "         Adm-clerical   Not-in-family   White     Male   2174   0   40  \\\n",
       "0     Exec-managerial         Husband   White     Male      0   0   13   \n",
       "1   Handlers-cleaners   Not-in-family   White     Male      0   0   40   \n",
       "2   Handlers-cleaners         Husband   Black     Male      0   0   40   \n",
       "3      Prof-specialty            Wife   Black   Female      0   0   40   \n",
       "4     Exec-managerial            Wife   White   Female      0   0   40   \n",
       "\n",
       "    United-States   <=50K  \n",
       "0   United-States   <=50K  \n",
       "1   United-States   <=50K  \n",
       "2   United-States   <=50K  \n",
       "3            Cuba   <=50K  \n",
       "4   United-States   <=50K  "
      ]
     },
     "execution_count": 4,
     "metadata": {},
     "output_type": "execute_result"
    }
   ],
   "source": [
    "adultdf.head()"
   ]
  },
  {
   "cell_type": "markdown",
   "id": "ba4880fa-0bd7-4879-96f5-65161b572466",
   "metadata": {},
   "source": [
    "- There are 32560 datapoints in the dataset\n",
    "- There does not seem to be a row denoting the columns, I believe that the first row is being used as the columns instead of actual column titles"
   ]
  },
  {
   "cell_type": "code",
   "execution_count": 5,
   "id": "d94bff09-747b-4064-a1a4-027f9ccd39f1",
   "metadata": {},
   "outputs": [
    {
     "data": {
      "text/plain": [
       "Index(['39', ' State-gov', ' 77516', ' Bachelors', ' 13', ' Never-married',\n",
       "       ' Adm-clerical', ' Not-in-family', ' White', ' Male', ' 2174', ' 0',\n",
       "       ' 40', ' United-States', ' <=50K'],\n",
       "      dtype='object')"
      ]
     },
     "execution_count": 5,
     "metadata": {},
     "output_type": "execute_result"
    }
   ],
   "source": [
    "adultdf.columns"
   ]
  },
  {
   "cell_type": "code",
   "execution_count": 6,
   "id": "0f393e3a-1227-44a7-adb0-4f678972d5f4",
   "metadata": {},
   "outputs": [
    {
     "data": {
      "text/plain": [
       "count     32560\n",
       "unique        2\n",
       "top        Male\n",
       "freq      21789\n",
       "Name:  Male, dtype: object"
      ]
     },
     "execution_count": 6,
     "metadata": {},
     "output_type": "execute_result"
    }
   ],
   "source": [
    "adultdf[' Male'].describe()"
   ]
  },
  {
   "cell_type": "markdown",
   "id": "76cc79a2-0830-471d-b52d-a686811ed370",
   "metadata": {},
   "source": [
    "- The title of ' Male' leads with a space I had many difficulties figuring this issue out."
   ]
  },
  {
   "cell_type": "markdown",
   "id": "e38e70b0-efc1-4502-a51c-ad416b06e8f8",
   "metadata": {},
   "source": [
    "#### Part b"
   ]
  },
  {
   "cell_type": "code",
   "execution_count": 7,
   "id": "a8f1390e-882f-4e44-99f4-3beb5652c5bc",
   "metadata": {},
   "outputs": [],
   "source": [
    "adult = pd.read_csv('adult.csv')"
   ]
  },
  {
   "cell_type": "code",
   "execution_count": 8,
   "id": "a2fbaa3d-8b6c-40cd-8fa8-284d5d3e17ff",
   "metadata": {},
   "outputs": [
    {
     "data": {
      "text/plain": [
       "(32561, 15)"
      ]
     },
     "execution_count": 8,
     "metadata": {},
     "output_type": "execute_result"
    }
   ],
   "source": [
    "adult.shape"
   ]
  },
  {
   "cell_type": "markdown",
   "id": "575183a0-bb52-4fb6-9830-c802d4a6cbd2",
   "metadata": {},
   "source": [
    "- There are 32561 Adults, it does confirm my suspicision from part a"
   ]
  },
  {
   "cell_type": "code",
   "execution_count": 9,
   "id": "f5a0352d-147b-4b79-8323-fba4744c7581",
   "metadata": {},
   "outputs": [
    {
     "data": {
      "text/plain": [
       "Index(['age', 'workclass', 'fnlwgt', 'education', 'education-num',\n",
       "       'marital-status', 'occupation', 'relationship', 'race', 'sex',\n",
       "       'capital-gain', 'capital-loss', 'hours-per-week', 'native-country',\n",
       "       'salary'],\n",
       "      dtype='object')"
      ]
     },
     "execution_count": 9,
     "metadata": {},
     "output_type": "execute_result"
    }
   ],
   "source": [
    "adult.columns"
   ]
  },
  {
   "cell_type": "code",
   "execution_count": 10,
   "id": "16b74609-dc5f-4016-82ce-e18eb780a5cc",
   "metadata": {},
   "outputs": [
    {
     "data": {
      "text/plain": [
       "sex\n",
       "Male      21790\n",
       "Female    10771\n",
       "Name: count, dtype: int64"
      ]
     },
     "execution_count": 10,
     "metadata": {},
     "output_type": "execute_result"
    }
   ],
   "source": [
    "adult['sex'].value_counts()"
   ]
  },
  {
   "cell_type": "markdown",
   "id": "9196e06d-f245-42ee-b0a8-0182a03f6379",
   "metadata": {},
   "source": [
    "- There are 21790 Men and 10771 Women"
   ]
  },
  {
   "cell_type": "markdown",
   "id": "f5aee2cc-f60f-4809-9257-a15395c6a110",
   "metadata": {},
   "source": [
    "#### part d"
   ]
  },
  {
   "cell_type": "code",
   "execution_count": 11,
   "id": "c8161df9-5082-42ee-b226-7ebc4c9ce402",
   "metadata": {},
   "outputs": [
    {
     "data": {
      "text/html": [
       "<div>\n",
       "<style scoped>\n",
       "    .dataframe tbody tr th:only-of-type {\n",
       "        vertical-align: middle;\n",
       "    }\n",
       "\n",
       "    .dataframe tbody tr th {\n",
       "        vertical-align: top;\n",
       "    }\n",
       "\n",
       "    .dataframe thead tr th {\n",
       "        text-align: left;\n",
       "    }\n",
       "\n",
       "    .dataframe thead tr:last-of-type th {\n",
       "        text-align: right;\n",
       "    }\n",
       "</style>\n",
       "<table border=\"1\" class=\"dataframe\">\n",
       "  <thead>\n",
       "    <tr>\n",
       "      <th></th>\n",
       "      <th colspan=\"8\" halign=\"left\">age</th>\n",
       "      <th colspan=\"2\" halign=\"left\">fnlwgt</th>\n",
       "      <th>...</th>\n",
       "      <th colspan=\"2\" halign=\"left\">capital-loss</th>\n",
       "      <th colspan=\"8\" halign=\"left\">hours-per-week</th>\n",
       "    </tr>\n",
       "    <tr>\n",
       "      <th></th>\n",
       "      <th>count</th>\n",
       "      <th>mean</th>\n",
       "      <th>std</th>\n",
       "      <th>min</th>\n",
       "      <th>25%</th>\n",
       "      <th>50%</th>\n",
       "      <th>75%</th>\n",
       "      <th>max</th>\n",
       "      <th>count</th>\n",
       "      <th>mean</th>\n",
       "      <th>...</th>\n",
       "      <th>75%</th>\n",
       "      <th>max</th>\n",
       "      <th>count</th>\n",
       "      <th>mean</th>\n",
       "      <th>std</th>\n",
       "      <th>min</th>\n",
       "      <th>25%</th>\n",
       "      <th>50%</th>\n",
       "      <th>75%</th>\n",
       "      <th>max</th>\n",
       "    </tr>\n",
       "    <tr>\n",
       "      <th>sex</th>\n",
       "      <th></th>\n",
       "      <th></th>\n",
       "      <th></th>\n",
       "      <th></th>\n",
       "      <th></th>\n",
       "      <th></th>\n",
       "      <th></th>\n",
       "      <th></th>\n",
       "      <th></th>\n",
       "      <th></th>\n",
       "      <th></th>\n",
       "      <th></th>\n",
       "      <th></th>\n",
       "      <th></th>\n",
       "      <th></th>\n",
       "      <th></th>\n",
       "      <th></th>\n",
       "      <th></th>\n",
       "      <th></th>\n",
       "      <th></th>\n",
       "      <th></th>\n",
       "    </tr>\n",
       "  </thead>\n",
       "  <tbody>\n",
       "    <tr>\n",
       "      <th>Female</th>\n",
       "      <td>10771.0</td>\n",
       "      <td>36.858230</td>\n",
       "      <td>14.013697</td>\n",
       "      <td>17.0</td>\n",
       "      <td>25.0</td>\n",
       "      <td>35.0</td>\n",
       "      <td>46.0</td>\n",
       "      <td>90.0</td>\n",
       "      <td>10771.0</td>\n",
       "      <td>185746.311206</td>\n",
       "      <td>...</td>\n",
       "      <td>0.0</td>\n",
       "      <td>4356.0</td>\n",
       "      <td>10771.0</td>\n",
       "      <td>36.410361</td>\n",
       "      <td>11.811300</td>\n",
       "      <td>1.0</td>\n",
       "      <td>30.0</td>\n",
       "      <td>40.0</td>\n",
       "      <td>40.0</td>\n",
       "      <td>99.0</td>\n",
       "    </tr>\n",
       "    <tr>\n",
       "      <th>Male</th>\n",
       "      <td>21790.0</td>\n",
       "      <td>39.433547</td>\n",
       "      <td>13.370630</td>\n",
       "      <td>17.0</td>\n",
       "      <td>29.0</td>\n",
       "      <td>38.0</td>\n",
       "      <td>48.0</td>\n",
       "      <td>90.0</td>\n",
       "      <td>21790.0</td>\n",
       "      <td>191771.449013</td>\n",
       "      <td>...</td>\n",
       "      <td>0.0</td>\n",
       "      <td>3770.0</td>\n",
       "      <td>21790.0</td>\n",
       "      <td>42.428086</td>\n",
       "      <td>12.119755</td>\n",
       "      <td>1.0</td>\n",
       "      <td>40.0</td>\n",
       "      <td>40.0</td>\n",
       "      <td>49.0</td>\n",
       "      <td>99.0</td>\n",
       "    </tr>\n",
       "  </tbody>\n",
       "</table>\n",
       "<p>2 rows × 48 columns</p>\n",
       "</div>"
      ],
      "text/plain": [
       "            age                                                       fnlwgt  \\\n",
       "          count       mean        std   min   25%   50%   75%   max    count   \n",
       "sex                                                                            \n",
       "Female  10771.0  36.858230  14.013697  17.0  25.0  35.0  46.0  90.0  10771.0   \n",
       "Male    21790.0  39.433547  13.370630  17.0  29.0  38.0  48.0  90.0  21790.0   \n",
       "\n",
       "                       ... capital-loss         hours-per-week             \\\n",
       "                 mean  ...          75%     max          count       mean   \n",
       "sex                    ...                                                  \n",
       "Female  185746.311206  ...          0.0  4356.0        10771.0  36.410361   \n",
       "Male    191771.449013  ...          0.0  3770.0        21790.0  42.428086   \n",
       "\n",
       "                                                \n",
       "              std  min   25%   50%   75%   max  \n",
       "sex                                             \n",
       "Female  11.811300  1.0  30.0  40.0  40.0  99.0  \n",
       "Male    12.119755  1.0  40.0  40.0  49.0  99.0  \n",
       "\n",
       "[2 rows x 48 columns]"
      ]
     },
     "execution_count": 11,
     "metadata": {},
     "output_type": "execute_result"
    }
   ],
   "source": [
    "adult.groupby('sex').describe()"
   ]
  },
  {
   "cell_type": "markdown",
   "id": "b5b8faa1-ac59-4cbb-8498-57f6eb08aa81",
   "metadata": {},
   "source": [
    "- The average age for a Female in this dataset is roughly 36.86 years old"
   ]
  },
  {
   "cell_type": "code",
   "execution_count": 12,
   "id": "86ac4c35-f090-40b1-bc94-2697d0945e3b",
   "metadata": {},
   "outputs": [
    {
     "data": {
      "text/html": [
       "<div>\n",
       "<style scoped>\n",
       "    .dataframe tbody tr th:only-of-type {\n",
       "        vertical-align: middle;\n",
       "    }\n",
       "\n",
       "    .dataframe tbody tr th {\n",
       "        vertical-align: top;\n",
       "    }\n",
       "\n",
       "    .dataframe thead th {\n",
       "        text-align: right;\n",
       "    }\n",
       "</style>\n",
       "<table border=\"1\" class=\"dataframe\">\n",
       "  <thead>\n",
       "    <tr style=\"text-align: right;\">\n",
       "      <th></th>\n",
       "      <th>age</th>\n",
       "      <th>workclass</th>\n",
       "      <th>fnlwgt</th>\n",
       "      <th>education</th>\n",
       "      <th>education-num</th>\n",
       "      <th>marital-status</th>\n",
       "      <th>occupation</th>\n",
       "      <th>relationship</th>\n",
       "      <th>race</th>\n",
       "      <th>sex</th>\n",
       "      <th>capital-gain</th>\n",
       "      <th>capital-loss</th>\n",
       "      <th>hours-per-week</th>\n",
       "      <th>native-country</th>\n",
       "      <th>salary</th>\n",
       "    </tr>\n",
       "  </thead>\n",
       "  <tbody>\n",
       "    <tr>\n",
       "      <th>0</th>\n",
       "      <td>39</td>\n",
       "      <td>State-gov</td>\n",
       "      <td>77516</td>\n",
       "      <td>Bachelors</td>\n",
       "      <td>13</td>\n",
       "      <td>Never-married</td>\n",
       "      <td>Adm-clerical</td>\n",
       "      <td>Not-in-family</td>\n",
       "      <td>White</td>\n",
       "      <td>Male</td>\n",
       "      <td>2174</td>\n",
       "      <td>0</td>\n",
       "      <td>40</td>\n",
       "      <td>United-States</td>\n",
       "      <td>&lt;=50K</td>\n",
       "    </tr>\n",
       "    <tr>\n",
       "      <th>1</th>\n",
       "      <td>50</td>\n",
       "      <td>Self-emp-not-inc</td>\n",
       "      <td>83311</td>\n",
       "      <td>Bachelors</td>\n",
       "      <td>13</td>\n",
       "      <td>Married-civ-spouse</td>\n",
       "      <td>Exec-managerial</td>\n",
       "      <td>Husband</td>\n",
       "      <td>White</td>\n",
       "      <td>Male</td>\n",
       "      <td>0</td>\n",
       "      <td>0</td>\n",
       "      <td>13</td>\n",
       "      <td>United-States</td>\n",
       "      <td>&lt;=50K</td>\n",
       "    </tr>\n",
       "    <tr>\n",
       "      <th>2</th>\n",
       "      <td>38</td>\n",
       "      <td>Private</td>\n",
       "      <td>215646</td>\n",
       "      <td>HS-grad</td>\n",
       "      <td>9</td>\n",
       "      <td>Divorced</td>\n",
       "      <td>Handlers-cleaners</td>\n",
       "      <td>Not-in-family</td>\n",
       "      <td>White</td>\n",
       "      <td>Male</td>\n",
       "      <td>0</td>\n",
       "      <td>0</td>\n",
       "      <td>40</td>\n",
       "      <td>United-States</td>\n",
       "      <td>&lt;=50K</td>\n",
       "    </tr>\n",
       "    <tr>\n",
       "      <th>3</th>\n",
       "      <td>53</td>\n",
       "      <td>Private</td>\n",
       "      <td>234721</td>\n",
       "      <td>11th</td>\n",
       "      <td>7</td>\n",
       "      <td>Married-civ-spouse</td>\n",
       "      <td>Handlers-cleaners</td>\n",
       "      <td>Husband</td>\n",
       "      <td>Black</td>\n",
       "      <td>Male</td>\n",
       "      <td>0</td>\n",
       "      <td>0</td>\n",
       "      <td>40</td>\n",
       "      <td>United-States</td>\n",
       "      <td>&lt;=50K</td>\n",
       "    </tr>\n",
       "    <tr>\n",
       "      <th>4</th>\n",
       "      <td>28</td>\n",
       "      <td>Private</td>\n",
       "      <td>338409</td>\n",
       "      <td>Bachelors</td>\n",
       "      <td>13</td>\n",
       "      <td>Married-civ-spouse</td>\n",
       "      <td>Prof-specialty</td>\n",
       "      <td>Wife</td>\n",
       "      <td>Black</td>\n",
       "      <td>Female</td>\n",
       "      <td>0</td>\n",
       "      <td>0</td>\n",
       "      <td>40</td>\n",
       "      <td>Cuba</td>\n",
       "      <td>&lt;=50K</td>\n",
       "    </tr>\n",
       "  </tbody>\n",
       "</table>\n",
       "</div>"
      ],
      "text/plain": [
       "   age         workclass  fnlwgt  education  education-num  \\\n",
       "0   39         State-gov   77516  Bachelors             13   \n",
       "1   50  Self-emp-not-inc   83311  Bachelors             13   \n",
       "2   38           Private  215646    HS-grad              9   \n",
       "3   53           Private  234721       11th              7   \n",
       "4   28           Private  338409  Bachelors             13   \n",
       "\n",
       "       marital-status         occupation   relationship   race     sex  \\\n",
       "0       Never-married       Adm-clerical  Not-in-family  White    Male   \n",
       "1  Married-civ-spouse    Exec-managerial        Husband  White    Male   \n",
       "2            Divorced  Handlers-cleaners  Not-in-family  White    Male   \n",
       "3  Married-civ-spouse  Handlers-cleaners        Husband  Black    Male   \n",
       "4  Married-civ-spouse     Prof-specialty           Wife  Black  Female   \n",
       "\n",
       "   capital-gain  capital-loss  hours-per-week native-country salary  \n",
       "0          2174             0              40  United-States  <=50K  \n",
       "1             0             0              13  United-States  <=50K  \n",
       "2             0             0              40  United-States  <=50K  \n",
       "3             0             0              40  United-States  <=50K  \n",
       "4             0             0              40           Cuba  <=50K  "
      ]
     },
     "execution_count": 12,
     "metadata": {},
     "output_type": "execute_result"
    }
   ],
   "source": [
    "adult.head()"
   ]
  },
  {
   "cell_type": "code",
   "execution_count": 13,
   "id": "a8150362-6a5e-4974-80a9-848eebe72ff3",
   "metadata": {},
   "outputs": [
    {
     "data": {
      "text/plain": [
       "native-country\n",
       "United-States                 29170\n",
       "Mexico                          643\n",
       "?                               583\n",
       "Philippines                     198\n",
       "Germany                         137\n",
       "Canada                          121\n",
       "Puerto-Rico                     114\n",
       "El-Salvador                     106\n",
       "India                           100\n",
       "Cuba                             95\n",
       "England                          90\n",
       "Jamaica                          81\n",
       "South                            80\n",
       "China                            75\n",
       "Italy                            73\n",
       "Dominican-Republic               70\n",
       "Vietnam                          67\n",
       "Guatemala                        64\n",
       "Japan                            62\n",
       "Poland                           60\n",
       "Columbia                         59\n",
       "Taiwan                           51\n",
       "Haiti                            44\n",
       "Iran                             43\n",
       "Portugal                         37\n",
       "Nicaragua                        34\n",
       "Peru                             31\n",
       "France                           29\n",
       "Greece                           29\n",
       "Ecuador                          28\n",
       "Ireland                          24\n",
       "Hong                             20\n",
       "Cambodia                         19\n",
       "Trinadad&Tobago                  19\n",
       "Laos                             18\n",
       "Thailand                         18\n",
       "Yugoslavia                       16\n",
       "Outlying-US(Guam-USVI-etc)       14\n",
       "Honduras                         13\n",
       "Hungary                          13\n",
       "Scotland                         12\n",
       "Holand-Netherlands                1\n",
       "Name: count, dtype: int64"
      ]
     },
     "execution_count": 13,
     "metadata": {},
     "output_type": "execute_result"
    }
   ],
   "source": [
    "adult['native-country'].value_counts()"
   ]
  },
  {
   "cell_type": "code",
   "execution_count": 14,
   "id": "6b99eae7-f5ee-4f17-a0a9-23beae295137",
   "metadata": {},
   "outputs": [
    {
     "data": {
      "text/plain": [
       "32561"
      ]
     },
     "execution_count": 14,
     "metadata": {},
     "output_type": "execute_result"
    }
   ],
   "source": [
    "adult['native-country'].value_counts().sum()"
   ]
  },
  {
   "cell_type": "code",
   "execution_count": 15,
   "id": "9cb95783-8f43-4861-89ea-73dd973421ed",
   "metadata": {},
   "outputs": [
    {
     "name": "stdout",
     "output_type": "stream",
     "text": [
      "0.004207487485028101\n"
     ]
    }
   ],
   "source": [
    "print(137/32561) #Proportion of Germany citizens to all"
   ]
  },
  {
   "cell_type": "code",
   "execution_count": 16,
   "id": "b4e82ac7-4061-4f8a-934a-f372586fd081",
   "metadata": {},
   "outputs": [
    {
     "data": {
      "text/html": [
       "<div>\n",
       "<style scoped>\n",
       "    .dataframe tbody tr th:only-of-type {\n",
       "        vertical-align: middle;\n",
       "    }\n",
       "\n",
       "    .dataframe tbody tr th {\n",
       "        vertical-align: top;\n",
       "    }\n",
       "\n",
       "    .dataframe thead tr th {\n",
       "        text-align: left;\n",
       "    }\n",
       "\n",
       "    .dataframe thead tr:last-of-type th {\n",
       "        text-align: right;\n",
       "    }\n",
       "</style>\n",
       "<table border=\"1\" class=\"dataframe\">\n",
       "  <thead>\n",
       "    <tr>\n",
       "      <th></th>\n",
       "      <th colspan=\"8\" halign=\"left\">age</th>\n",
       "      <th colspan=\"2\" halign=\"left\">fnlwgt</th>\n",
       "      <th>...</th>\n",
       "      <th colspan=\"2\" halign=\"left\">capital-loss</th>\n",
       "      <th colspan=\"8\" halign=\"left\">hours-per-week</th>\n",
       "    </tr>\n",
       "    <tr>\n",
       "      <th></th>\n",
       "      <th>count</th>\n",
       "      <th>mean</th>\n",
       "      <th>std</th>\n",
       "      <th>min</th>\n",
       "      <th>25%</th>\n",
       "      <th>50%</th>\n",
       "      <th>75%</th>\n",
       "      <th>max</th>\n",
       "      <th>count</th>\n",
       "      <th>mean</th>\n",
       "      <th>...</th>\n",
       "      <th>75%</th>\n",
       "      <th>max</th>\n",
       "      <th>count</th>\n",
       "      <th>mean</th>\n",
       "      <th>std</th>\n",
       "      <th>min</th>\n",
       "      <th>25%</th>\n",
       "      <th>50%</th>\n",
       "      <th>75%</th>\n",
       "      <th>max</th>\n",
       "    </tr>\n",
       "    <tr>\n",
       "      <th>salary</th>\n",
       "      <th></th>\n",
       "      <th></th>\n",
       "      <th></th>\n",
       "      <th></th>\n",
       "      <th></th>\n",
       "      <th></th>\n",
       "      <th></th>\n",
       "      <th></th>\n",
       "      <th></th>\n",
       "      <th></th>\n",
       "      <th></th>\n",
       "      <th></th>\n",
       "      <th></th>\n",
       "      <th></th>\n",
       "      <th></th>\n",
       "      <th></th>\n",
       "      <th></th>\n",
       "      <th></th>\n",
       "      <th></th>\n",
       "      <th></th>\n",
       "      <th></th>\n",
       "    </tr>\n",
       "  </thead>\n",
       "  <tbody>\n",
       "    <tr>\n",
       "      <th>&lt;=50K</th>\n",
       "      <td>24720.0</td>\n",
       "      <td>36.783738</td>\n",
       "      <td>14.020088</td>\n",
       "      <td>17.0</td>\n",
       "      <td>25.0</td>\n",
       "      <td>34.0</td>\n",
       "      <td>46.0</td>\n",
       "      <td>90.0</td>\n",
       "      <td>24720.0</td>\n",
       "      <td>190340.86517</td>\n",
       "      <td>...</td>\n",
       "      <td>0.0</td>\n",
       "      <td>4356.0</td>\n",
       "      <td>24720.0</td>\n",
       "      <td>38.840210</td>\n",
       "      <td>12.318995</td>\n",
       "      <td>1.0</td>\n",
       "      <td>35.0</td>\n",
       "      <td>40.0</td>\n",
       "      <td>40.0</td>\n",
       "      <td>99.0</td>\n",
       "    </tr>\n",
       "    <tr>\n",
       "      <th>&gt;50K</th>\n",
       "      <td>7841.0</td>\n",
       "      <td>44.249841</td>\n",
       "      <td>10.519028</td>\n",
       "      <td>19.0</td>\n",
       "      <td>36.0</td>\n",
       "      <td>44.0</td>\n",
       "      <td>51.0</td>\n",
       "      <td>90.0</td>\n",
       "      <td>7841.0</td>\n",
       "      <td>188005.00000</td>\n",
       "      <td>...</td>\n",
       "      <td>0.0</td>\n",
       "      <td>3683.0</td>\n",
       "      <td>7841.0</td>\n",
       "      <td>45.473026</td>\n",
       "      <td>11.012971</td>\n",
       "      <td>1.0</td>\n",
       "      <td>40.0</td>\n",
       "      <td>40.0</td>\n",
       "      <td>50.0</td>\n",
       "      <td>99.0</td>\n",
       "    </tr>\n",
       "  </tbody>\n",
       "</table>\n",
       "<p>2 rows × 48 columns</p>\n",
       "</div>"
      ],
      "text/plain": [
       "            age                                                       fnlwgt  \\\n",
       "          count       mean        std   min   25%   50%   75%   max    count   \n",
       "salary                                                                         \n",
       "<=50K   24720.0  36.783738  14.020088  17.0  25.0  34.0  46.0  90.0  24720.0   \n",
       ">50K     7841.0  44.249841  10.519028  19.0  36.0  44.0  51.0  90.0   7841.0   \n",
       "\n",
       "                      ... capital-loss         hours-per-week             \\\n",
       "                mean  ...          75%     max          count       mean   \n",
       "salary                ...                                                  \n",
       "<=50K   190340.86517  ...          0.0  4356.0        24720.0  38.840210   \n",
       ">50K    188005.00000  ...          0.0  3683.0         7841.0  45.473026   \n",
       "\n",
       "                                                \n",
       "              std  min   25%   50%   75%   max  \n",
       "salary                                          \n",
       "<=50K   12.318995  1.0  35.0  40.0  40.0  99.0  \n",
       ">50K    11.012971  1.0  40.0  40.0  50.0  99.0  \n",
       "\n",
       "[2 rows x 48 columns]"
      ]
     },
     "execution_count": 16,
     "metadata": {},
     "output_type": "execute_result"
    }
   ],
   "source": [
    "adult.groupby('salary').describe()"
   ]
  },
  {
   "cell_type": "markdown",
   "id": "09cedef5-c5a4-4383-a2d9-7d8ba6f8e0e1",
   "metadata": {},
   "source": [
    "- For less than 50k it is roughly 36.78 year mean with a 14 year std\n",
    "- For more than 50k it is roughly 44.25 year mean with a 10.5 year std"
   ]
  },
  {
   "cell_type": "code",
   "execution_count": 17,
   "id": "b78637db-1e04-479e-a0eb-b2d74242b7ce",
   "metadata": {},
   "outputs": [
    {
     "data": {
      "text/plain": [
       "education\n",
       "Bachelors       2221\n",
       "HS-grad         1675\n",
       "Some-college    1387\n",
       "Masters          959\n",
       "Prof-school      423\n",
       "Assoc-voc        361\n",
       "Doctorate        306\n",
       "Assoc-acdm       265\n",
       "10th              62\n",
       "11th              60\n",
       "7th-8th           40\n",
       "12th              33\n",
       "9th               27\n",
       "5th-6th           16\n",
       "1st-4th            6\n",
       "Name: count, dtype: int64"
      ]
     },
     "execution_count": 17,
     "metadata": {},
     "output_type": "execute_result"
    }
   ],
   "source": [
    "adult[(adult['salary'] == '>50K')]['education'].value_counts()"
   ]
  },
  {
   "cell_type": "markdown",
   "id": "4cf5fb21-6f7f-4616-ab64-de73f4a61faa",
   "metadata": {},
   "source": [
    "- It is not true, that those making above 50K all have at least high school education, there is 89 adults without any highschool"
   ]
  },
  {
   "cell_type": "code",
   "execution_count": 18,
   "id": "d1f43624-d135-4a19-898b-bc27c90e7016",
   "metadata": {},
   "outputs": [
    {
     "data": {
      "text/plain": [
       "race                sex   \n",
       "Amer-Indian-Eskimo  Female    80\n",
       "                    Male      82\n",
       "Asian-Pac-Islander  Female    75\n",
       "                    Male      90\n",
       "Black               Female    90\n",
       "                    Male      90\n",
       "Other               Female    74\n",
       "                    Male      77\n",
       "White               Female    90\n",
       "                    Male      90\n",
       "Name: age, dtype: int64"
      ]
     },
     "execution_count": 18,
     "metadata": {},
     "output_type": "execute_result"
    }
   ],
   "source": [
    "adult.groupby(['race','sex'])['age'].agg('max')"
   ]
  },
  {
   "cell_type": "markdown",
   "id": "6adc51bf-3f44-4ebe-b9b5-7fec32913e7b",
   "metadata": {},
   "source": [
    "- Its 82 of the oldest Male Amer-Indian_Eskimo for the dataset"
   ]
  },
  {
   "cell_type": "code",
   "execution_count": 19,
   "id": "06f35ffc-e7b7-4587-a62a-4a534f2ceeb9",
   "metadata": {},
   "outputs": [
    {
     "data": {
      "text/plain": [
       "Index(['age', 'workclass', 'fnlwgt', 'education', 'education-num',\n",
       "       'marital-status', 'occupation', 'relationship', 'race', 'sex',\n",
       "       'capital-gain', 'capital-loss', 'hours-per-week', 'native-country',\n",
       "       'salary'],\n",
       "      dtype='object')"
      ]
     },
     "execution_count": 19,
     "metadata": {},
     "output_type": "execute_result"
    }
   ],
   "source": [
    "adult.columns"
   ]
  },
  {
   "cell_type": "markdown",
   "id": "ebdbcc6d-66de-4695-a56b-fb508a24e4ee",
   "metadata": {},
   "source": [
    "- Part i "
   ]
  },
  {
   "cell_type": "code",
   "execution_count": 20,
   "id": "5cacd8bd-b19a-4391-ae10-e2c9cc009c0c",
   "metadata": {},
   "outputs": [
    {
     "name": "stdout",
     "output_type": "stream",
     "text": [
      "0.4405139945351156\n",
      "0.08449509031397745\n"
     ]
    },
    {
     "name": "stderr",
     "output_type": "stream",
     "text": [
      "/var/folders/5x/btnn6lc923v_nhhyhd79x0wh0000gn/T/ipykernel_67873/310459925.py:4: UserWarning: Boolean Series key will be reindexed to match DataFrame index.\n",
      "  not_married = adult[~(adult['marital-status'].str.startswith('Married'))][(adult['sex'] == 'Male')]\n"
     ]
    }
   ],
   "source": [
    "# Step 1: Filter rows where salary is '>50K'\n",
    "married = adult[adult['marital-status'].str.startswith('Married') & (adult['sex'] == 'Male')]\n",
    "print((married['salary'] == '>50K').mean())\n",
    "not_married = adult[~(adult['marital-status'].str.startswith('Married'))][(adult['sex'] == 'Male')]\n",
    "print((not_married['salary'] == '>50K').mean())\n",
    "\n",
    "# Step 1: Filter rows where salary is '>50K'\n",
    "#filtered_salary = adult[adult['salary'] == '>50K']\n",
    "\n",
    "# Step 2: Filter further for rows where 'marital-status' starts with 'Married'\n",
    "#print(filtered_salary['marital-status'].str.startswith('Married').mean())\n",
    "filtered_salary = adult[adult['salary'] == '>50K']\n"
   ]
  },
  {
   "cell_type": "code",
   "execution_count": 21,
   "id": "ed123013-49d1-4a66-82b7-d9d6ce1ae59e",
   "metadata": {},
   "outputs": [
    {
     "data": {
      "text/plain": [
       "99"
      ]
     },
     "execution_count": 21,
     "metadata": {},
     "output_type": "execute_result"
    }
   ],
   "source": [
    "adult['hours-per-week'].max()"
   ]
  },
  {
   "cell_type": "code",
   "execution_count": 22,
   "id": "89cf3dd3-bb5e-405b-a2d1-d5293388c8a5",
   "metadata": {},
   "outputs": [
    {
     "name": "stdout",
     "output_type": "stream",
     "text": [
      "85\n"
     ]
    }
   ],
   "source": [
    "totalnumber = adult[adult['hours-per-week'] == 99]['age'].count()\n",
    "print(totalnumber)"
   ]
  },
  {
   "cell_type": "code",
   "execution_count": 23,
   "id": "0befc32d-994c-486d-a911-61e4fe518b3c",
   "metadata": {},
   "outputs": [
    {
     "data": {
      "text/plain": [
       "0.29411764705882354"
      ]
     },
     "execution_count": 23,
     "metadata": {},
     "output_type": "execute_result"
    }
   ],
   "source": [
    "filtered_salary[filtered_salary['hours-per-week']==99]['age'].count()/totalnumber"
   ]
  },
  {
   "cell_type": "code",
   "execution_count": 24,
   "id": "69392964-9db4-437c-bda4-8179517de42b",
   "metadata": {},
   "outputs": [
    {
     "data": {
      "text/plain": [
       "native-country\n",
       "?                     45.547945\n",
       "Cambodia              40.000000\n",
       "Canada                45.641026\n",
       "China                 38.900000\n",
       "Columbia              50.000000\n",
       "Cuba                  42.440000\n",
       "Dominican-Republic    47.000000\n",
       "Ecuador               48.750000\n",
       "El-Salvador           45.000000\n",
       "England               44.533333\n",
       "France                50.750000\n",
       "Germany               44.977273\n",
       "Greece                50.625000\n",
       "Guatemala             36.666667\n",
       "Haiti                 42.750000\n",
       "Honduras              60.000000\n",
       "Hong                  45.000000\n",
       "Hungary               50.000000\n",
       "India                 46.475000\n",
       "Iran                  47.500000\n",
       "Ireland               48.000000\n",
       "Italy                 45.400000\n",
       "Jamaica               41.100000\n",
       "Japan                 47.958333\n",
       "Laos                  40.000000\n",
       "Mexico                46.575758\n",
       "Nicaragua             37.500000\n",
       "Peru                  40.000000\n",
       "Philippines           43.032787\n",
       "Poland                39.000000\n",
       "Portugal              41.500000\n",
       "Puerto-Rico           39.416667\n",
       "Scotland              46.666667\n",
       "South                 51.437500\n",
       "Taiwan                46.800000\n",
       "Thailand              58.333333\n",
       "Trinadad&Tobago       40.000000\n",
       "United-States         45.505369\n",
       "Vietnam               39.200000\n",
       "Yugoslavia            49.500000\n",
       "Name: hours-per-week, dtype: float64"
      ]
     },
     "execution_count": 24,
     "metadata": {},
     "output_type": "execute_result"
    }
   ],
   "source": [
    "filtered_salary.groupby(['native-country'])['hours-per-week'].agg('mean')"
   ]
  },
  {
   "cell_type": "markdown",
   "id": "0c586b64-b80b-4f1c-8977-42e5f645036d",
   "metadata": {},
   "source": [
    "## Question 2"
   ]
  },
  {
   "cell_type": "code",
   "execution_count": 25,
   "id": "2969e3d0-9861-4235-8299-6c390773c245",
   "metadata": {},
   "outputs": [],
   "source": [
    "cardiodf = pd.read_csv('cardio.csv', sep = ';')"
   ]
  },
  {
   "cell_type": "code",
   "execution_count": 26,
   "id": "70fdf5cd-65df-4452-b152-0272ec2bb10e",
   "metadata": {},
   "outputs": [
    {
     "data": {
      "text/html": [
       "<div>\n",
       "<style scoped>\n",
       "    .dataframe tbody tr th:only-of-type {\n",
       "        vertical-align: middle;\n",
       "    }\n",
       "\n",
       "    .dataframe tbody tr th {\n",
       "        vertical-align: top;\n",
       "    }\n",
       "\n",
       "    .dataframe thead th {\n",
       "        text-align: right;\n",
       "    }\n",
       "</style>\n",
       "<table border=\"1\" class=\"dataframe\">\n",
       "  <thead>\n",
       "    <tr style=\"text-align: right;\">\n",
       "      <th></th>\n",
       "      <th>id</th>\n",
       "      <th>age</th>\n",
       "      <th>gender</th>\n",
       "      <th>height</th>\n",
       "      <th>weight</th>\n",
       "      <th>ap_hi</th>\n",
       "      <th>ap_lo</th>\n",
       "      <th>cholesterol</th>\n",
       "      <th>gluc</th>\n",
       "      <th>smoke</th>\n",
       "      <th>alco</th>\n",
       "      <th>active</th>\n",
       "      <th>cardio</th>\n",
       "    </tr>\n",
       "  </thead>\n",
       "  <tbody>\n",
       "    <tr>\n",
       "      <th>0</th>\n",
       "      <td>0</td>\n",
       "      <td>18393</td>\n",
       "      <td>2</td>\n",
       "      <td>168</td>\n",
       "      <td>62.0</td>\n",
       "      <td>110</td>\n",
       "      <td>80</td>\n",
       "      <td>1</td>\n",
       "      <td>1</td>\n",
       "      <td>0</td>\n",
       "      <td>0</td>\n",
       "      <td>1</td>\n",
       "      <td>0</td>\n",
       "    </tr>\n",
       "    <tr>\n",
       "      <th>1</th>\n",
       "      <td>1</td>\n",
       "      <td>20228</td>\n",
       "      <td>1</td>\n",
       "      <td>156</td>\n",
       "      <td>85.0</td>\n",
       "      <td>140</td>\n",
       "      <td>90</td>\n",
       "      <td>3</td>\n",
       "      <td>1</td>\n",
       "      <td>0</td>\n",
       "      <td>0</td>\n",
       "      <td>1</td>\n",
       "      <td>1</td>\n",
       "    </tr>\n",
       "    <tr>\n",
       "      <th>2</th>\n",
       "      <td>2</td>\n",
       "      <td>18857</td>\n",
       "      <td>1</td>\n",
       "      <td>165</td>\n",
       "      <td>64.0</td>\n",
       "      <td>130</td>\n",
       "      <td>70</td>\n",
       "      <td>3</td>\n",
       "      <td>1</td>\n",
       "      <td>0</td>\n",
       "      <td>0</td>\n",
       "      <td>0</td>\n",
       "      <td>1</td>\n",
       "    </tr>\n",
       "    <tr>\n",
       "      <th>3</th>\n",
       "      <td>3</td>\n",
       "      <td>17623</td>\n",
       "      <td>2</td>\n",
       "      <td>169</td>\n",
       "      <td>82.0</td>\n",
       "      <td>150</td>\n",
       "      <td>100</td>\n",
       "      <td>1</td>\n",
       "      <td>1</td>\n",
       "      <td>0</td>\n",
       "      <td>0</td>\n",
       "      <td>1</td>\n",
       "      <td>1</td>\n",
       "    </tr>\n",
       "    <tr>\n",
       "      <th>4</th>\n",
       "      <td>4</td>\n",
       "      <td>17474</td>\n",
       "      <td>1</td>\n",
       "      <td>156</td>\n",
       "      <td>56.0</td>\n",
       "      <td>100</td>\n",
       "      <td>60</td>\n",
       "      <td>1</td>\n",
       "      <td>1</td>\n",
       "      <td>0</td>\n",
       "      <td>0</td>\n",
       "      <td>0</td>\n",
       "      <td>0</td>\n",
       "    </tr>\n",
       "  </tbody>\n",
       "</table>\n",
       "</div>"
      ],
      "text/plain": [
       "   id    age  gender  height  weight  ap_hi  ap_lo  cholesterol  gluc  smoke  \\\n",
       "0   0  18393       2     168    62.0    110     80            1     1      0   \n",
       "1   1  20228       1     156    85.0    140     90            3     1      0   \n",
       "2   2  18857       1     165    64.0    130     70            3     1      0   \n",
       "3   3  17623       2     169    82.0    150    100            1     1      0   \n",
       "4   4  17474       1     156    56.0    100     60            1     1      0   \n",
       "\n",
       "   alco  active  cardio  \n",
       "0     0       1       0  \n",
       "1     0       1       1  \n",
       "2     0       0       1  \n",
       "3     0       1       1  \n",
       "4     0       0       0  "
      ]
     },
     "execution_count": 26,
     "metadata": {},
     "output_type": "execute_result"
    }
   ],
   "source": [
    "cardiodf.head()"
   ]
  },
  {
   "cell_type": "code",
   "execution_count": 27,
   "id": "4464f2dc-64f9-40b4-8e35-a70be5c5592c",
   "metadata": {},
   "outputs": [
    {
     "data": {
      "text/plain": [
       "(70000, 13)"
      ]
     },
     "execution_count": 27,
     "metadata": {},
     "output_type": "execute_result"
    }
   ],
   "source": [
    "cardiodf.shape"
   ]
  },
  {
   "cell_type": "markdown",
   "id": "6c262932-8f7a-415a-832c-07bcf490fe8c",
   "metadata": {},
   "source": [
    "- There are 70000 people in the dataset"
   ]
  },
  {
   "cell_type": "code",
   "execution_count": 28,
   "id": "3e96dcaa-2802-4bd9-bc81-0c922a38e91c",
   "metadata": {},
   "outputs": [
    {
     "data": {
      "text/html": [
       "<div>\n",
       "<style scoped>\n",
       "    .dataframe tbody tr th:only-of-type {\n",
       "        vertical-align: middle;\n",
       "    }\n",
       "\n",
       "    .dataframe tbody tr th {\n",
       "        vertical-align: top;\n",
       "    }\n",
       "\n",
       "    .dataframe thead th {\n",
       "        text-align: right;\n",
       "    }\n",
       "</style>\n",
       "<table border=\"1\" class=\"dataframe\">\n",
       "  <thead>\n",
       "    <tr style=\"text-align: right;\">\n",
       "      <th></th>\n",
       "      <th>count</th>\n",
       "      <th>mean</th>\n",
       "      <th>std</th>\n",
       "      <th>min</th>\n",
       "      <th>25%</th>\n",
       "      <th>50%</th>\n",
       "      <th>75%</th>\n",
       "      <th>max</th>\n",
       "    </tr>\n",
       "    <tr>\n",
       "      <th>gender</th>\n",
       "      <th></th>\n",
       "      <th></th>\n",
       "      <th></th>\n",
       "      <th></th>\n",
       "      <th></th>\n",
       "      <th></th>\n",
       "      <th></th>\n",
       "      <th></th>\n",
       "    </tr>\n",
       "  </thead>\n",
       "  <tbody>\n",
       "    <tr>\n",
       "      <th>1</th>\n",
       "      <td>45530.0</td>\n",
       "      <td>161.355612</td>\n",
       "      <td>7.052726</td>\n",
       "      <td>55.0</td>\n",
       "      <td>157.0</td>\n",
       "      <td>161.0</td>\n",
       "      <td>166.0</td>\n",
       "      <td>250.0</td>\n",
       "    </tr>\n",
       "    <tr>\n",
       "      <th>2</th>\n",
       "      <td>24470.0</td>\n",
       "      <td>169.947895</td>\n",
       "      <td>7.228895</td>\n",
       "      <td>65.0</td>\n",
       "      <td>165.0</td>\n",
       "      <td>170.0</td>\n",
       "      <td>175.0</td>\n",
       "      <td>207.0</td>\n",
       "    </tr>\n",
       "  </tbody>\n",
       "</table>\n",
       "</div>"
      ],
      "text/plain": [
       "          count        mean       std   min    25%    50%    75%    max\n",
       "gender                                                                 \n",
       "1       45530.0  161.355612  7.052726  55.0  157.0  161.0  166.0  250.0\n",
       "2       24470.0  169.947895  7.228895  65.0  165.0  170.0  175.0  207.0"
      ]
     },
     "execution_count": 28,
     "metadata": {},
     "output_type": "execute_result"
    }
   ],
   "source": [
    "cardiodf.groupby('gender')['height'].describe()"
   ]
  },
  {
   "cell_type": "markdown",
   "id": "b3af3084-041b-413f-a185-52636ea79046",
   "metadata": {},
   "source": [
    "- It is very likely that 1 is female and 2 is male"
   ]
  },
  {
   "cell_type": "markdown",
   "id": "79c5a010-4a9c-49ef-a169-6af42238bfb6",
   "metadata": {},
   "source": [
    "- There are roughly 45530 men 24470 females"
   ]
  },
  {
   "cell_type": "code",
   "execution_count": 29,
   "id": "b4e1b6fc-6eba-4f21-8d9a-69abf2587125",
   "metadata": {},
   "outputs": [
    {
     "data": {
      "text/html": [
       "<div>\n",
       "<style scoped>\n",
       "    .dataframe tbody tr th:only-of-type {\n",
       "        vertical-align: middle;\n",
       "    }\n",
       "\n",
       "    .dataframe tbody tr th {\n",
       "        vertical-align: top;\n",
       "    }\n",
       "\n",
       "    .dataframe thead th {\n",
       "        text-align: right;\n",
       "    }\n",
       "</style>\n",
       "<table border=\"1\" class=\"dataframe\">\n",
       "  <thead>\n",
       "    <tr style=\"text-align: right;\">\n",
       "      <th></th>\n",
       "      <th>count</th>\n",
       "      <th>mean</th>\n",
       "      <th>std</th>\n",
       "      <th>min</th>\n",
       "      <th>25%</th>\n",
       "      <th>50%</th>\n",
       "      <th>75%</th>\n",
       "      <th>max</th>\n",
       "    </tr>\n",
       "    <tr>\n",
       "      <th>gender</th>\n",
       "      <th></th>\n",
       "      <th></th>\n",
       "      <th></th>\n",
       "      <th></th>\n",
       "      <th></th>\n",
       "      <th></th>\n",
       "      <th></th>\n",
       "      <th></th>\n",
       "    </tr>\n",
       "  </thead>\n",
       "  <tbody>\n",
       "    <tr>\n",
       "      <th>1</th>\n",
       "      <td>45530.0</td>\n",
       "      <td>0.025500</td>\n",
       "      <td>0.157639</td>\n",
       "      <td>0.0</td>\n",
       "      <td>0.0</td>\n",
       "      <td>0.0</td>\n",
       "      <td>0.0</td>\n",
       "      <td>1.0</td>\n",
       "    </tr>\n",
       "    <tr>\n",
       "      <th>2</th>\n",
       "      <td>24470.0</td>\n",
       "      <td>0.106375</td>\n",
       "      <td>0.308323</td>\n",
       "      <td>0.0</td>\n",
       "      <td>0.0</td>\n",
       "      <td>0.0</td>\n",
       "      <td>0.0</td>\n",
       "      <td>1.0</td>\n",
       "    </tr>\n",
       "  </tbody>\n",
       "</table>\n",
       "</div>"
      ],
      "text/plain": [
       "          count      mean       std  min  25%  50%  75%  max\n",
       "gender                                                      \n",
       "1       45530.0  0.025500  0.157639  0.0  0.0  0.0  0.0  1.0\n",
       "2       24470.0  0.106375  0.308323  0.0  0.0  0.0  0.0  1.0"
      ]
     },
     "execution_count": 29,
     "metadata": {},
     "output_type": "execute_result"
    }
   ],
   "source": [
    "cardiodf.groupby('gender')['alco'].describe()"
   ]
  },
  {
   "cell_type": "markdown",
   "id": "3b11fae6-4900-4a16-992d-a5ddc527df44",
   "metadata": {},
   "source": [
    "- Roughly 10.6% of males consume alcohol in comparison to the roughly 2.5% of females"
   ]
  },
  {
   "cell_type": "code",
   "execution_count": 30,
   "id": "154c2899-4f51-402d-b86b-f7c232b1a72c",
   "metadata": {},
   "outputs": [],
   "source": [
    "male_smokers = cardiodf[cardiodf['gender'] == 2]['smoke'].mean() * 100\n",
    "female_smokers = cardiodf[cardiodf['gender'] == 1]['smoke'].mean() * 100"
   ]
  },
  {
   "cell_type": "code",
   "execution_count": 31,
   "id": "9464e1fc-1084-4acf-a494-707bd40714c8",
   "metadata": {},
   "outputs": [
    {
     "data": {
      "text/plain": [
       "21.88802615447487"
      ]
     },
     "execution_count": 31,
     "metadata": {},
     "output_type": "execute_result"
    }
   ],
   "source": [
    "male_smokers"
   ]
  },
  {
   "cell_type": "code",
   "execution_count": 32,
   "id": "d7e4e2e6-34a2-49bd-9980-31f4f3e00df5",
   "metadata": {},
   "outputs": [
    {
     "data": {
      "text/plain": [
       "1.7856358444981333"
      ]
     },
     "execution_count": 32,
     "metadata": {},
     "output_type": "execute_result"
    }
   ],
   "source": [
    "female_smokers"
   ]
  },
  {
   "cell_type": "code",
   "execution_count": 33,
   "id": "ce1a6f29-2e1d-470e-91b9-967a8d8b7e0b",
   "metadata": {},
   "outputs": [],
   "source": [
    "difference = round(abs(male_smokers - female_smokers), 2)"
   ]
  },
  {
   "cell_type": "code",
   "execution_count": 34,
   "id": "71b3de2a-f159-459b-b0d3-b1076ac9fc29",
   "metadata": {},
   "outputs": [
    {
     "data": {
      "text/plain": [
       "20.1"
      ]
     },
     "execution_count": 34,
     "metadata": {},
     "output_type": "execute_result"
    }
   ],
   "source": [
    "difference"
   ]
  },
  {
   "cell_type": "code",
   "execution_count": 35,
   "id": "23a0efee-19ee-4d6a-a808-72cf1284005a",
   "metadata": {},
   "outputs": [
    {
     "data": {
      "text/plain": [
       "count    70000.000000\n",
       "mean     19468.865814\n",
       "std       2467.251667\n",
       "min      10798.000000\n",
       "25%      17664.000000\n",
       "50%      19703.000000\n",
       "75%      21327.000000\n",
       "max      23713.000000\n",
       "Name: age, dtype: float64"
      ]
     },
     "execution_count": 35,
     "metadata": {},
     "output_type": "execute_result"
    }
   ],
   "source": [
    "cardiodf['age'].describe()"
   ]
  },
  {
   "cell_type": "code",
   "execution_count": 36,
   "id": "f17fb9ee-29d8-4ddb-a18d-c4e73f6a9eaa",
   "metadata": {},
   "outputs": [],
   "source": [
    "difference = round(abs(cardiodf[cardiodf['gender']==2]['age'].median() - cardiodf[cardiodf['gender']==1]['age'].median()),2)"
   ]
  },
  {
   "cell_type": "code",
   "execution_count": 37,
   "id": "5df6a299-17e6-4764-babd-8a2bd0510a80",
   "metadata": {},
   "outputs": [
    {
     "data": {
      "text/plain": [
       "70.5"
      ]
     },
     "execution_count": 37,
     "metadata": {},
     "output_type": "execute_result"
    }
   ],
   "source": [
    "difference #This is the difference in days"
   ]
  },
  {
   "cell_type": "code",
   "execution_count": 38,
   "id": "57e2cf8c-d989-438e-9351-ce08dc489e91",
   "metadata": {},
   "outputs": [],
   "source": [
    "difference *= 12/365.25 #Calculate months through dividing by year than multiplying my months"
   ]
  },
  {
   "cell_type": "code",
   "execution_count": 39,
   "id": "7be6126c-7e3a-457b-92dd-71c228708634",
   "metadata": {},
   "outputs": [
    {
     "data": {
      "text/plain": [
       "2.316221765913758"
      ]
     },
     "execution_count": 39,
     "metadata": {},
     "output_type": "execute_result"
    }
   ],
   "source": [
    "difference #between men and women"
   ]
  },
  {
   "cell_type": "code",
   "execution_count": 40,
   "id": "24b1ce1b-f388-43b3-a470-67b5d05642a8",
   "metadata": {},
   "outputs": [],
   "source": [
    "cardiodf['ageY'] = round(cardiodf['age']/365.25,1)"
   ]
  },
  {
   "cell_type": "code",
   "execution_count": 41,
   "id": "b7e10879-a30a-4661-be45-c9218792e899",
   "metadata": {},
   "outputs": [
    {
     "data": {
      "text/html": [
       "<div>\n",
       "<style scoped>\n",
       "    .dataframe tbody tr th:only-of-type {\n",
       "        vertical-align: middle;\n",
       "    }\n",
       "\n",
       "    .dataframe tbody tr th {\n",
       "        vertical-align: top;\n",
       "    }\n",
       "\n",
       "    .dataframe thead th {\n",
       "        text-align: right;\n",
       "    }\n",
       "</style>\n",
       "<table border=\"1\" class=\"dataframe\">\n",
       "  <thead>\n",
       "    <tr style=\"text-align: right;\">\n",
       "      <th></th>\n",
       "      <th>id</th>\n",
       "      <th>age</th>\n",
       "      <th>gender</th>\n",
       "      <th>height</th>\n",
       "      <th>weight</th>\n",
       "      <th>ap_hi</th>\n",
       "      <th>ap_lo</th>\n",
       "      <th>cholesterol</th>\n",
       "      <th>gluc</th>\n",
       "      <th>smoke</th>\n",
       "      <th>alco</th>\n",
       "      <th>active</th>\n",
       "      <th>cardio</th>\n",
       "      <th>ageY</th>\n",
       "    </tr>\n",
       "  </thead>\n",
       "  <tbody>\n",
       "    <tr>\n",
       "      <th>0</th>\n",
       "      <td>0</td>\n",
       "      <td>18393</td>\n",
       "      <td>2</td>\n",
       "      <td>168</td>\n",
       "      <td>62.0</td>\n",
       "      <td>110</td>\n",
       "      <td>80</td>\n",
       "      <td>1</td>\n",
       "      <td>1</td>\n",
       "      <td>0</td>\n",
       "      <td>0</td>\n",
       "      <td>1</td>\n",
       "      <td>0</td>\n",
       "      <td>50.4</td>\n",
       "    </tr>\n",
       "    <tr>\n",
       "      <th>1</th>\n",
       "      <td>1</td>\n",
       "      <td>20228</td>\n",
       "      <td>1</td>\n",
       "      <td>156</td>\n",
       "      <td>85.0</td>\n",
       "      <td>140</td>\n",
       "      <td>90</td>\n",
       "      <td>3</td>\n",
       "      <td>1</td>\n",
       "      <td>0</td>\n",
       "      <td>0</td>\n",
       "      <td>1</td>\n",
       "      <td>1</td>\n",
       "      <td>55.4</td>\n",
       "    </tr>\n",
       "    <tr>\n",
       "      <th>2</th>\n",
       "      <td>2</td>\n",
       "      <td>18857</td>\n",
       "      <td>1</td>\n",
       "      <td>165</td>\n",
       "      <td>64.0</td>\n",
       "      <td>130</td>\n",
       "      <td>70</td>\n",
       "      <td>3</td>\n",
       "      <td>1</td>\n",
       "      <td>0</td>\n",
       "      <td>0</td>\n",
       "      <td>0</td>\n",
       "      <td>1</td>\n",
       "      <td>51.6</td>\n",
       "    </tr>\n",
       "    <tr>\n",
       "      <th>3</th>\n",
       "      <td>3</td>\n",
       "      <td>17623</td>\n",
       "      <td>2</td>\n",
       "      <td>169</td>\n",
       "      <td>82.0</td>\n",
       "      <td>150</td>\n",
       "      <td>100</td>\n",
       "      <td>1</td>\n",
       "      <td>1</td>\n",
       "      <td>0</td>\n",
       "      <td>0</td>\n",
       "      <td>1</td>\n",
       "      <td>1</td>\n",
       "      <td>48.2</td>\n",
       "    </tr>\n",
       "    <tr>\n",
       "      <th>4</th>\n",
       "      <td>4</td>\n",
       "      <td>17474</td>\n",
       "      <td>1</td>\n",
       "      <td>156</td>\n",
       "      <td>56.0</td>\n",
       "      <td>100</td>\n",
       "      <td>60</td>\n",
       "      <td>1</td>\n",
       "      <td>1</td>\n",
       "      <td>0</td>\n",
       "      <td>0</td>\n",
       "      <td>0</td>\n",
       "      <td>0</td>\n",
       "      <td>47.8</td>\n",
       "    </tr>\n",
       "    <tr>\n",
       "      <th>5</th>\n",
       "      <td>8</td>\n",
       "      <td>21914</td>\n",
       "      <td>1</td>\n",
       "      <td>151</td>\n",
       "      <td>67.0</td>\n",
       "      <td>120</td>\n",
       "      <td>80</td>\n",
       "      <td>2</td>\n",
       "      <td>2</td>\n",
       "      <td>0</td>\n",
       "      <td>0</td>\n",
       "      <td>0</td>\n",
       "      <td>0</td>\n",
       "      <td>60.0</td>\n",
       "    </tr>\n",
       "    <tr>\n",
       "      <th>6</th>\n",
       "      <td>9</td>\n",
       "      <td>22113</td>\n",
       "      <td>1</td>\n",
       "      <td>157</td>\n",
       "      <td>93.0</td>\n",
       "      <td>130</td>\n",
       "      <td>80</td>\n",
       "      <td>3</td>\n",
       "      <td>1</td>\n",
       "      <td>0</td>\n",
       "      <td>0</td>\n",
       "      <td>1</td>\n",
       "      <td>0</td>\n",
       "      <td>60.5</td>\n",
       "    </tr>\n",
       "    <tr>\n",
       "      <th>7</th>\n",
       "      <td>12</td>\n",
       "      <td>22584</td>\n",
       "      <td>2</td>\n",
       "      <td>178</td>\n",
       "      <td>95.0</td>\n",
       "      <td>130</td>\n",
       "      <td>90</td>\n",
       "      <td>3</td>\n",
       "      <td>3</td>\n",
       "      <td>0</td>\n",
       "      <td>0</td>\n",
       "      <td>1</td>\n",
       "      <td>1</td>\n",
       "      <td>61.8</td>\n",
       "    </tr>\n",
       "    <tr>\n",
       "      <th>8</th>\n",
       "      <td>13</td>\n",
       "      <td>17668</td>\n",
       "      <td>1</td>\n",
       "      <td>158</td>\n",
       "      <td>71.0</td>\n",
       "      <td>110</td>\n",
       "      <td>70</td>\n",
       "      <td>1</td>\n",
       "      <td>1</td>\n",
       "      <td>0</td>\n",
       "      <td>0</td>\n",
       "      <td>1</td>\n",
       "      <td>0</td>\n",
       "      <td>48.4</td>\n",
       "    </tr>\n",
       "    <tr>\n",
       "      <th>9</th>\n",
       "      <td>14</td>\n",
       "      <td>19834</td>\n",
       "      <td>1</td>\n",
       "      <td>164</td>\n",
       "      <td>68.0</td>\n",
       "      <td>110</td>\n",
       "      <td>60</td>\n",
       "      <td>1</td>\n",
       "      <td>1</td>\n",
       "      <td>0</td>\n",
       "      <td>0</td>\n",
       "      <td>0</td>\n",
       "      <td>0</td>\n",
       "      <td>54.3</td>\n",
       "    </tr>\n",
       "  </tbody>\n",
       "</table>\n",
       "</div>"
      ],
      "text/plain": [
       "   id    age  gender  height  weight  ap_hi  ap_lo  cholesterol  gluc  smoke  \\\n",
       "0   0  18393       2     168    62.0    110     80            1     1      0   \n",
       "1   1  20228       1     156    85.0    140     90            3     1      0   \n",
       "2   2  18857       1     165    64.0    130     70            3     1      0   \n",
       "3   3  17623       2     169    82.0    150    100            1     1      0   \n",
       "4   4  17474       1     156    56.0    100     60            1     1      0   \n",
       "5   8  21914       1     151    67.0    120     80            2     2      0   \n",
       "6   9  22113       1     157    93.0    130     80            3     1      0   \n",
       "7  12  22584       2     178    95.0    130     90            3     3      0   \n",
       "8  13  17668       1     158    71.0    110     70            1     1      0   \n",
       "9  14  19834       1     164    68.0    110     60            1     1      0   \n",
       "\n",
       "   alco  active  cardio  ageY  \n",
       "0     0       1       0  50.4  \n",
       "1     0       1       1  55.4  \n",
       "2     0       0       1  51.6  \n",
       "3     0       1       1  48.2  \n",
       "4     0       0       0  47.8  \n",
       "5     0       0       0  60.0  \n",
       "6     0       1       0  60.5  \n",
       "7     0       1       1  61.8  \n",
       "8     0       1       0  48.4  \n",
       "9     0       0       0  54.3  "
      ]
     },
     "execution_count": 41,
     "metadata": {},
     "output_type": "execute_result"
    }
   ],
   "source": [
    "cardiodf.head(10)"
   ]
  },
  {
   "cell_type": "code",
   "execution_count": 42,
   "id": "fbe1d673-d4d8-48e9-8719-a2b1490dc1d7",
   "metadata": {},
   "outputs": [
    {
     "data": {
      "text/html": [
       "<div>\n",
       "<style scoped>\n",
       "    .dataframe tbody tr th:only-of-type {\n",
       "        vertical-align: middle;\n",
       "    }\n",
       "\n",
       "    .dataframe tbody tr th {\n",
       "        vertical-align: top;\n",
       "    }\n",
       "\n",
       "    .dataframe thead th {\n",
       "        text-align: right;\n",
       "    }\n",
       "</style>\n",
       "<table border=\"1\" class=\"dataframe\">\n",
       "  <thead>\n",
       "    <tr style=\"text-align: right;\">\n",
       "      <th></th>\n",
       "      <th>id</th>\n",
       "      <th>age</th>\n",
       "      <th>gender</th>\n",
       "      <th>height</th>\n",
       "      <th>weight</th>\n",
       "      <th>ap_hi</th>\n",
       "      <th>ap_lo</th>\n",
       "      <th>cholesterol</th>\n",
       "      <th>gluc</th>\n",
       "      <th>smoke</th>\n",
       "      <th>alco</th>\n",
       "      <th>active</th>\n",
       "      <th>cardio</th>\n",
       "      <th>ageY</th>\n",
       "    </tr>\n",
       "  </thead>\n",
       "  <tbody>\n",
       "    <tr>\n",
       "      <th>5</th>\n",
       "      <td>8</td>\n",
       "      <td>21914</td>\n",
       "      <td>1</td>\n",
       "      <td>151</td>\n",
       "      <td>67.0</td>\n",
       "      <td>120</td>\n",
       "      <td>80</td>\n",
       "      <td>2</td>\n",
       "      <td>2</td>\n",
       "      <td>0</td>\n",
       "      <td>0</td>\n",
       "      <td>0</td>\n",
       "      <td>0</td>\n",
       "      <td>60.0</td>\n",
       "    </tr>\n",
       "    <tr>\n",
       "      <th>6</th>\n",
       "      <td>9</td>\n",
       "      <td>22113</td>\n",
       "      <td>1</td>\n",
       "      <td>157</td>\n",
       "      <td>93.0</td>\n",
       "      <td>130</td>\n",
       "      <td>80</td>\n",
       "      <td>3</td>\n",
       "      <td>1</td>\n",
       "      <td>0</td>\n",
       "      <td>0</td>\n",
       "      <td>1</td>\n",
       "      <td>0</td>\n",
       "      <td>60.5</td>\n",
       "    </tr>\n",
       "    <tr>\n",
       "      <th>7</th>\n",
       "      <td>12</td>\n",
       "      <td>22584</td>\n",
       "      <td>2</td>\n",
       "      <td>178</td>\n",
       "      <td>95.0</td>\n",
       "      <td>130</td>\n",
       "      <td>90</td>\n",
       "      <td>3</td>\n",
       "      <td>3</td>\n",
       "      <td>0</td>\n",
       "      <td>0</td>\n",
       "      <td>1</td>\n",
       "      <td>1</td>\n",
       "      <td>61.8</td>\n",
       "    </tr>\n",
       "    <tr>\n",
       "      <th>10</th>\n",
       "      <td>15</td>\n",
       "      <td>22530</td>\n",
       "      <td>1</td>\n",
       "      <td>169</td>\n",
       "      <td>80.0</td>\n",
       "      <td>120</td>\n",
       "      <td>80</td>\n",
       "      <td>1</td>\n",
       "      <td>1</td>\n",
       "      <td>0</td>\n",
       "      <td>0</td>\n",
       "      <td>1</td>\n",
       "      <td>0</td>\n",
       "      <td>61.7</td>\n",
       "    </tr>\n",
       "    <tr>\n",
       "      <th>22</th>\n",
       "      <td>32</td>\n",
       "      <td>23046</td>\n",
       "      <td>1</td>\n",
       "      <td>158</td>\n",
       "      <td>90.0</td>\n",
       "      <td>145</td>\n",
       "      <td>85</td>\n",
       "      <td>2</td>\n",
       "      <td>2</td>\n",
       "      <td>0</td>\n",
       "      <td>0</td>\n",
       "      <td>1</td>\n",
       "      <td>1</td>\n",
       "      <td>63.1</td>\n",
       "    </tr>\n",
       "  </tbody>\n",
       "</table>\n",
       "</div>"
      ],
      "text/plain": [
       "    id    age  gender  height  weight  ap_hi  ap_lo  cholesterol  gluc  smoke  \\\n",
       "5    8  21914       1     151    67.0    120     80            2     2      0   \n",
       "6    9  22113       1     157    93.0    130     80            3     1      0   \n",
       "7   12  22584       2     178    95.0    130     90            3     3      0   \n",
       "10  15  22530       1     169    80.0    120     80            1     1      0   \n",
       "22  32  23046       1     158    90.0    145     85            2     2      0   \n",
       "\n",
       "    alco  active  cardio  ageY  \n",
       "5      0       0       0  60.0  \n",
       "6      0       1       0  60.5  \n",
       "7      0       1       1  61.8  \n",
       "10     0       1       0  61.7  \n",
       "22     0       1       1  63.1  "
      ]
     },
     "execution_count": 42,
     "metadata": {},
     "output_type": "execute_result"
    }
   ],
   "source": [
    "olderPeople = cardiodf[(cardiodf['ageY'] <= 64) & (cardiodf['ageY'] >= 60 )]\n",
    "olderPeople.head()"
   ]
  },
  {
   "cell_type": "code",
   "execution_count": 43,
   "id": "d946107e-73dc-4dba-8167-cf9a7dccecdc",
   "metadata": {},
   "outputs": [
    {
     "name": "stderr",
     "output_type": "stream",
     "text": [
      "/var/folders/5x/btnn6lc923v_nhhyhd79x0wh0000gn/T/ipykernel_67873/2668867624.py:5: SettingWithCopyWarning: \n",
      "A value is trying to be set on a copy of a slice from a DataFrame.\n",
      "Try using .loc[row_indexer,col_indexer] = value instead\n",
      "\n",
      "See the caveats in the documentation: https://pandas.pydata.org/pandas-docs/stable/user_guide/indexing.html#returning-a-view-versus-a-copy\n",
      "  olderPeople.loc[:, 'cholesterol_category'] = pd.cut(olderPeople['cholesterol'], bins=bins, labels=labels)\n"
     ]
    },
    {
     "data": {
      "text/html": [
       "<div>\n",
       "<style scoped>\n",
       "    .dataframe tbody tr th:only-of-type {\n",
       "        vertical-align: middle;\n",
       "    }\n",
       "\n",
       "    .dataframe tbody tr th {\n",
       "        vertical-align: top;\n",
       "    }\n",
       "\n",
       "    .dataframe thead th {\n",
       "        text-align: right;\n",
       "    }\n",
       "</style>\n",
       "<table border=\"1\" class=\"dataframe\">\n",
       "  <thead>\n",
       "    <tr style=\"text-align: right;\">\n",
       "      <th></th>\n",
       "      <th>id</th>\n",
       "      <th>age</th>\n",
       "      <th>gender</th>\n",
       "      <th>height</th>\n",
       "      <th>weight</th>\n",
       "      <th>ap_hi</th>\n",
       "      <th>ap_lo</th>\n",
       "      <th>cholesterol</th>\n",
       "      <th>gluc</th>\n",
       "      <th>smoke</th>\n",
       "      <th>alco</th>\n",
       "      <th>active</th>\n",
       "      <th>cardio</th>\n",
       "      <th>ageY</th>\n",
       "      <th>cholesterol_category</th>\n",
       "    </tr>\n",
       "  </thead>\n",
       "  <tbody>\n",
       "    <tr>\n",
       "      <th>5</th>\n",
       "      <td>8</td>\n",
       "      <td>21914</td>\n",
       "      <td>1</td>\n",
       "      <td>151</td>\n",
       "      <td>67.0</td>\n",
       "      <td>120</td>\n",
       "      <td>80</td>\n",
       "      <td>2</td>\n",
       "      <td>2</td>\n",
       "      <td>0</td>\n",
       "      <td>0</td>\n",
       "      <td>0</td>\n",
       "      <td>0</td>\n",
       "      <td>60.0</td>\n",
       "      <td>1</td>\n",
       "    </tr>\n",
       "    <tr>\n",
       "      <th>6</th>\n",
       "      <td>9</td>\n",
       "      <td>22113</td>\n",
       "      <td>1</td>\n",
       "      <td>157</td>\n",
       "      <td>93.0</td>\n",
       "      <td>130</td>\n",
       "      <td>80</td>\n",
       "      <td>3</td>\n",
       "      <td>1</td>\n",
       "      <td>0</td>\n",
       "      <td>0</td>\n",
       "      <td>1</td>\n",
       "      <td>0</td>\n",
       "      <td>60.5</td>\n",
       "      <td>1</td>\n",
       "    </tr>\n",
       "    <tr>\n",
       "      <th>7</th>\n",
       "      <td>12</td>\n",
       "      <td>22584</td>\n",
       "      <td>2</td>\n",
       "      <td>178</td>\n",
       "      <td>95.0</td>\n",
       "      <td>130</td>\n",
       "      <td>90</td>\n",
       "      <td>3</td>\n",
       "      <td>3</td>\n",
       "      <td>0</td>\n",
       "      <td>0</td>\n",
       "      <td>1</td>\n",
       "      <td>1</td>\n",
       "      <td>61.8</td>\n",
       "      <td>1</td>\n",
       "    </tr>\n",
       "    <tr>\n",
       "      <th>10</th>\n",
       "      <td>15</td>\n",
       "      <td>22530</td>\n",
       "      <td>1</td>\n",
       "      <td>169</td>\n",
       "      <td>80.0</td>\n",
       "      <td>120</td>\n",
       "      <td>80</td>\n",
       "      <td>1</td>\n",
       "      <td>1</td>\n",
       "      <td>0</td>\n",
       "      <td>0</td>\n",
       "      <td>1</td>\n",
       "      <td>0</td>\n",
       "      <td>61.7</td>\n",
       "      <td>1</td>\n",
       "    </tr>\n",
       "    <tr>\n",
       "      <th>22</th>\n",
       "      <td>32</td>\n",
       "      <td>23046</td>\n",
       "      <td>1</td>\n",
       "      <td>158</td>\n",
       "      <td>90.0</td>\n",
       "      <td>145</td>\n",
       "      <td>85</td>\n",
       "      <td>2</td>\n",
       "      <td>2</td>\n",
       "      <td>0</td>\n",
       "      <td>0</td>\n",
       "      <td>1</td>\n",
       "      <td>1</td>\n",
       "      <td>63.1</td>\n",
       "      <td>1</td>\n",
       "    </tr>\n",
       "  </tbody>\n",
       "</table>\n",
       "</div>"
      ],
      "text/plain": [
       "    id    age  gender  height  weight  ap_hi  ap_lo  cholesterol  gluc  smoke  \\\n",
       "5    8  21914       1     151    67.0    120     80            2     2      0   \n",
       "6    9  22113       1     157    93.0    130     80            3     1      0   \n",
       "7   12  22584       2     178    95.0    130     90            3     3      0   \n",
       "10  15  22530       1     169    80.0    120     80            1     1      0   \n",
       "22  32  23046       1     158    90.0    145     85            2     2      0   \n",
       "\n",
       "    alco  active  cardio  ageY cholesterol_category  \n",
       "5      0       0       0  60.0                    1  \n",
       "6      0       1       0  60.5                    1  \n",
       "7      0       1       1  61.8                    1  \n",
       "10     0       1       0  61.7                    1  \n",
       "22     0       1       1  63.1                    1  "
      ]
     },
     "execution_count": 43,
     "metadata": {},
     "output_type": "execute_result"
    }
   ],
   "source": [
    "# Categorize cholesterol into the specified groups\n",
    "bins = [0, 4, 7, float('inf')]  # Cholesterol level intervals\n",
    "labels = [1, 2, 3]  # The categories: 1 for <4, 2 for 5-7, 3 for >=8\n",
    "odlerPeople = olderPeople.copy()\n",
    "olderPeople.loc[:, 'cholesterol_category'] = pd.cut(olderPeople['cholesterol'], bins=bins, labels=labels)\n",
    "\n",
    "olderPeople.head()\n"
   ]
  },
  {
   "cell_type": "code",
   "execution_count": 44,
   "id": "a7c08e3d-eade-4c00-9c2a-57aade3eaf1d",
   "metadata": {},
   "outputs": [
    {
     "data": {
      "text/html": [
       "<div>\n",
       "<style scoped>\n",
       "    .dataframe tbody tr th:only-of-type {\n",
       "        vertical-align: middle;\n",
       "    }\n",
       "\n",
       "    .dataframe tbody tr th {\n",
       "        vertical-align: top;\n",
       "    }\n",
       "\n",
       "    .dataframe thead th {\n",
       "        text-align: right;\n",
       "    }\n",
       "</style>\n",
       "<table border=\"1\" class=\"dataframe\">\n",
       "  <thead>\n",
       "    <tr style=\"text-align: right;\">\n",
       "      <th></th>\n",
       "      <th>id</th>\n",
       "      <th>age</th>\n",
       "      <th>gender</th>\n",
       "      <th>height</th>\n",
       "      <th>weight</th>\n",
       "      <th>ap_hi</th>\n",
       "      <th>ap_lo</th>\n",
       "      <th>cholesterol</th>\n",
       "      <th>gluc</th>\n",
       "      <th>smoke</th>\n",
       "      <th>alco</th>\n",
       "      <th>active</th>\n",
       "      <th>cardio</th>\n",
       "      <th>ageY</th>\n",
       "    </tr>\n",
       "  </thead>\n",
       "  <tbody>\n",
       "    <tr>\n",
       "      <th>0</th>\n",
       "      <td>0</td>\n",
       "      <td>18393</td>\n",
       "      <td>2</td>\n",
       "      <td>168</td>\n",
       "      <td>62.0</td>\n",
       "      <td>110</td>\n",
       "      <td>80</td>\n",
       "      <td>1</td>\n",
       "      <td>1</td>\n",
       "      <td>0</td>\n",
       "      <td>0</td>\n",
       "      <td>1</td>\n",
       "      <td>0</td>\n",
       "      <td>50.4</td>\n",
       "    </tr>\n",
       "    <tr>\n",
       "      <th>1</th>\n",
       "      <td>1</td>\n",
       "      <td>20228</td>\n",
       "      <td>1</td>\n",
       "      <td>156</td>\n",
       "      <td>85.0</td>\n",
       "      <td>140</td>\n",
       "      <td>90</td>\n",
       "      <td>3</td>\n",
       "      <td>1</td>\n",
       "      <td>0</td>\n",
       "      <td>0</td>\n",
       "      <td>1</td>\n",
       "      <td>1</td>\n",
       "      <td>55.4</td>\n",
       "    </tr>\n",
       "    <tr>\n",
       "      <th>2</th>\n",
       "      <td>2</td>\n",
       "      <td>18857</td>\n",
       "      <td>1</td>\n",
       "      <td>165</td>\n",
       "      <td>64.0</td>\n",
       "      <td>130</td>\n",
       "      <td>70</td>\n",
       "      <td>3</td>\n",
       "      <td>1</td>\n",
       "      <td>0</td>\n",
       "      <td>0</td>\n",
       "      <td>0</td>\n",
       "      <td>1</td>\n",
       "      <td>51.6</td>\n",
       "    </tr>\n",
       "    <tr>\n",
       "      <th>3</th>\n",
       "      <td>3</td>\n",
       "      <td>17623</td>\n",
       "      <td>2</td>\n",
       "      <td>169</td>\n",
       "      <td>82.0</td>\n",
       "      <td>150</td>\n",
       "      <td>100</td>\n",
       "      <td>1</td>\n",
       "      <td>1</td>\n",
       "      <td>0</td>\n",
       "      <td>0</td>\n",
       "      <td>1</td>\n",
       "      <td>1</td>\n",
       "      <td>48.2</td>\n",
       "    </tr>\n",
       "    <tr>\n",
       "      <th>4</th>\n",
       "      <td>4</td>\n",
       "      <td>17474</td>\n",
       "      <td>1</td>\n",
       "      <td>156</td>\n",
       "      <td>56.0</td>\n",
       "      <td>100</td>\n",
       "      <td>60</td>\n",
       "      <td>1</td>\n",
       "      <td>1</td>\n",
       "      <td>0</td>\n",
       "      <td>0</td>\n",
       "      <td>0</td>\n",
       "      <td>0</td>\n",
       "      <td>47.8</td>\n",
       "    </tr>\n",
       "  </tbody>\n",
       "</table>\n",
       "</div>"
      ],
      "text/plain": [
       "   id    age  gender  height  weight  ap_hi  ap_lo  cholesterol  gluc  smoke  \\\n",
       "0   0  18393       2     168    62.0    110     80            1     1      0   \n",
       "1   1  20228       1     156    85.0    140     90            3     1      0   \n",
       "2   2  18857       1     165    64.0    130     70            3     1      0   \n",
       "3   3  17623       2     169    82.0    150    100            1     1      0   \n",
       "4   4  17474       1     156    56.0    100     60            1     1      0   \n",
       "\n",
       "   alco  active  cardio  ageY  \n",
       "0     0       1       0  50.4  \n",
       "1     0       1       1  55.4  \n",
       "2     0       0       1  51.6  \n",
       "3     0       1       1  48.2  \n",
       "4     0       0       0  47.8  "
      ]
     },
     "execution_count": 44,
     "metadata": {},
     "output_type": "execute_result"
    }
   ],
   "source": [
    "cardiodf.head()"
   ]
  },
  {
   "cell_type": "code",
   "execution_count": 45,
   "id": "c5652e52-43c6-4e41-ba9c-509208f10126",
   "metadata": {},
   "outputs": [
    {
     "name": "stdout",
     "output_type": "stream",
     "text": [
      "Fraction in group 1 (systolic < 120): 0.46\n",
      "Fraction in group 2 (systolic 160-180): 0.86\n",
      "The ratio of the two fractions: 0.54\n"
     ]
    }
   ],
   "source": [
    "# Fraction of ill people with systolic pressure < 120\n",
    "group_1 = olderPeople[olderPeople['ap_hi'] < 120]\n",
    "fraction_group_1 = group_1['cardio'].mean()\n",
    "\n",
    "# Fraction of ill people with systolic pressure in the interval [160, 180)\n",
    "group_2 = olderPeople[(olderPeople['ap_hi'] >= 160) & (olderPeople['ap_hi'] < 180)]\n",
    "fraction_group_2 = group_2['cardio'].mean()\n",
    "\n",
    "# Calculate the ratio of the two fractions\n",
    "ratio = fraction_group_1 / fraction_group_2\n",
    "\n",
    "print(f\"Fraction in group 1 (systolic < 120): {fraction_group_1:.2f}\")\n",
    "print(f\"Fraction in group 2 (systolic 160-180): {fraction_group_2:.2f}\")\n",
    "print(f\"The ratio of the two fractions: {ratio:.2f}\")\n"
   ]
  },
  {
   "cell_type": "markdown",
   "id": "85e2fb0d-729e-4b08-8eba-4e34f12b6cbd",
   "metadata": {},
   "source": [
    "### partG"
   ]
  },
  {
   "cell_type": "code",
   "execution_count": 46,
   "id": "562f22fb-415d-4ba2-8830-cbd95857d882",
   "metadata": {},
   "outputs": [
    {
     "data": {
      "text/html": [
       "<div>\n",
       "<style scoped>\n",
       "    .dataframe tbody tr th:only-of-type {\n",
       "        vertical-align: middle;\n",
       "    }\n",
       "\n",
       "    .dataframe tbody tr th {\n",
       "        vertical-align: top;\n",
       "    }\n",
       "\n",
       "    .dataframe thead th {\n",
       "        text-align: right;\n",
       "    }\n",
       "</style>\n",
       "<table border=\"1\" class=\"dataframe\">\n",
       "  <thead>\n",
       "    <tr style=\"text-align: right;\">\n",
       "      <th></th>\n",
       "      <th>id</th>\n",
       "      <th>age</th>\n",
       "      <th>gender</th>\n",
       "      <th>height</th>\n",
       "      <th>weight</th>\n",
       "      <th>ap_hi</th>\n",
       "      <th>ap_lo</th>\n",
       "      <th>cholesterol</th>\n",
       "      <th>gluc</th>\n",
       "      <th>smoke</th>\n",
       "      <th>alco</th>\n",
       "      <th>active</th>\n",
       "      <th>cardio</th>\n",
       "      <th>ageY</th>\n",
       "      <th>BMI</th>\n",
       "    </tr>\n",
       "  </thead>\n",
       "  <tbody>\n",
       "    <tr>\n",
       "      <th>0</th>\n",
       "      <td>0</td>\n",
       "      <td>18393</td>\n",
       "      <td>2</td>\n",
       "      <td>168</td>\n",
       "      <td>62.0</td>\n",
       "      <td>110</td>\n",
       "      <td>80</td>\n",
       "      <td>1</td>\n",
       "      <td>1</td>\n",
       "      <td>0</td>\n",
       "      <td>0</td>\n",
       "      <td>1</td>\n",
       "      <td>0</td>\n",
       "      <td>50.4</td>\n",
       "      <td>21.967120</td>\n",
       "    </tr>\n",
       "    <tr>\n",
       "      <th>1</th>\n",
       "      <td>1</td>\n",
       "      <td>20228</td>\n",
       "      <td>1</td>\n",
       "      <td>156</td>\n",
       "      <td>85.0</td>\n",
       "      <td>140</td>\n",
       "      <td>90</td>\n",
       "      <td>3</td>\n",
       "      <td>1</td>\n",
       "      <td>0</td>\n",
       "      <td>0</td>\n",
       "      <td>1</td>\n",
       "      <td>1</td>\n",
       "      <td>55.4</td>\n",
       "      <td>34.927679</td>\n",
       "    </tr>\n",
       "    <tr>\n",
       "      <th>2</th>\n",
       "      <td>2</td>\n",
       "      <td>18857</td>\n",
       "      <td>1</td>\n",
       "      <td>165</td>\n",
       "      <td>64.0</td>\n",
       "      <td>130</td>\n",
       "      <td>70</td>\n",
       "      <td>3</td>\n",
       "      <td>1</td>\n",
       "      <td>0</td>\n",
       "      <td>0</td>\n",
       "      <td>0</td>\n",
       "      <td>1</td>\n",
       "      <td>51.6</td>\n",
       "      <td>23.507805</td>\n",
       "    </tr>\n",
       "    <tr>\n",
       "      <th>3</th>\n",
       "      <td>3</td>\n",
       "      <td>17623</td>\n",
       "      <td>2</td>\n",
       "      <td>169</td>\n",
       "      <td>82.0</td>\n",
       "      <td>150</td>\n",
       "      <td>100</td>\n",
       "      <td>1</td>\n",
       "      <td>1</td>\n",
       "      <td>0</td>\n",
       "      <td>0</td>\n",
       "      <td>1</td>\n",
       "      <td>1</td>\n",
       "      <td>48.2</td>\n",
       "      <td>28.710479</td>\n",
       "    </tr>\n",
       "    <tr>\n",
       "      <th>4</th>\n",
       "      <td>4</td>\n",
       "      <td>17474</td>\n",
       "      <td>1</td>\n",
       "      <td>156</td>\n",
       "      <td>56.0</td>\n",
       "      <td>100</td>\n",
       "      <td>60</td>\n",
       "      <td>1</td>\n",
       "      <td>1</td>\n",
       "      <td>0</td>\n",
       "      <td>0</td>\n",
       "      <td>0</td>\n",
       "      <td>0</td>\n",
       "      <td>47.8</td>\n",
       "      <td>23.011177</td>\n",
       "    </tr>\n",
       "  </tbody>\n",
       "</table>\n",
       "</div>"
      ],
      "text/plain": [
       "   id    age  gender  height  weight  ap_hi  ap_lo  cholesterol  gluc  smoke  \\\n",
       "0   0  18393       2     168    62.0    110     80            1     1      0   \n",
       "1   1  20228       1     156    85.0    140     90            3     1      0   \n",
       "2   2  18857       1     165    64.0    130     70            3     1      0   \n",
       "3   3  17623       2     169    82.0    150    100            1     1      0   \n",
       "4   4  17474       1     156    56.0    100     60            1     1      0   \n",
       "\n",
       "   alco  active  cardio  ageY        BMI  \n",
       "0     0       1       0  50.4  21.967120  \n",
       "1     0       1       1  55.4  34.927679  \n",
       "2     0       0       1  51.6  23.507805  \n",
       "3     0       1       1  48.2  28.710479  \n",
       "4     0       0       0  47.8  23.011177  "
      ]
     },
     "execution_count": 46,
     "metadata": {},
     "output_type": "execute_result"
    }
   ],
   "source": [
    "cardiodf['BMI'] = cardiodf['weight'] / ((cardiodf['height']/100)**2)\n",
    "cardiodf.head()"
   ]
  },
  {
   "cell_type": "code",
   "execution_count": 47,
   "id": "9b014f45-13fb-4a42-ba71-9032685c0488",
   "metadata": {},
   "outputs": [
    {
     "data": {
      "text/plain": [
       "count    70000.000000\n",
       "mean        27.556513\n",
       "std          6.091511\n",
       "min          3.471784\n",
       "25%         23.875115\n",
       "50%         26.374068\n",
       "75%         30.222222\n",
       "max        298.666667\n",
       "Name: BMI, dtype: float64"
      ]
     },
     "execution_count": 47,
     "metadata": {},
     "output_type": "execute_result"
    }
   ],
   "source": [
    "cardiodf['BMI'].describe()"
   ]
  },
  {
   "cell_type": "code",
   "execution_count": 48,
   "id": "0855fa96-2632-46a1-b20b-4aad94bdc82b",
   "metadata": {},
   "outputs": [],
   "source": [
    "# i is incorrect since the median is 26.37 which is larger than 25"
   ]
  },
  {
   "cell_type": "code",
   "execution_count": 49,
   "id": "ee00842f-6869-45f9-aaaf-d09b841dfad2",
   "metadata": {},
   "outputs": [
    {
     "data": {
      "text/plain": [
       "1.2331410845434938"
      ]
     },
     "execution_count": 49,
     "metadata": {},
     "output_type": "execute_result"
    }
   ],
   "source": [
    "cardiodf[cardiodf['gender'] == 1]['BMI'].mean() - cardiodf[cardiodf['gender'] == 2]['BMI'].mean()"
   ]
  },
  {
   "cell_type": "code",
   "execution_count": 50,
   "id": "6f718853-60b3-4f48-a12d-073b16040c99",
   "metadata": {},
   "outputs": [],
   "source": [
    "# ii is correct since subtracting the means gives a positive value"
   ]
  },
  {
   "cell_type": "code",
   "execution_count": 51,
   "id": "c3231180-2ae3-4cec-83e8-9acca0ff533b",
   "metadata": {},
   "outputs": [
    {
     "data": {
      "text/plain": [
       "-1.9947238829813045"
      ]
     },
     "execution_count": 51,
     "metadata": {},
     "output_type": "execute_result"
    }
   ],
   "source": [
    "cardiodf[cardiodf['cardio'] == 0]['BMI'].median() - cardiodf[cardiodf['cardio'] == 1]['BMI'].median()"
   ]
  },
  {
   "cell_type": "code",
   "execution_count": 52,
   "id": "9252a9c2-70da-4a4c-8ca0-7a6773c0abdb",
   "metadata": {},
   "outputs": [],
   "source": [
    "# iii is incorrect since the substracting the medians is a negative valuye"
   ]
  },
  {
   "cell_type": "code",
   "execution_count": 53,
   "id": "77015296-375b-4248-b41b-7905fba62a0a",
   "metadata": {},
   "outputs": [],
   "source": [
    "healthy = cardiodf[cardiodf['cardio'] == 0]"
   ]
  },
  {
   "cell_type": "code",
   "execution_count": 54,
   "id": "3dcb41fa-d378-4121-8959-94887b9eef4b",
   "metadata": {},
   "outputs": [
    {
     "data": {
      "text/plain": [
       "gender\n",
       "1    26.845407\n",
       "2    25.872638\n",
       "Name: BMI, dtype: float64"
      ]
     },
     "execution_count": 54,
     "metadata": {},
     "output_type": "execute_result"
    }
   ],
   "source": [
    "healthy[healthy['alco'] == 0].groupby('gender')['BMI'].agg('mean')"
   ]
  },
  {
   "cell_type": "markdown",
   "id": "7401b3ca-bf34-4547-b2d1-6be9f0db2579",
   "metadata": {},
   "source": [
    "- for men mean difference is roughly 0.873 from boundary, while women mean difference is 1.845 difference from the boundary, so this is true"
   ]
  },
  {
   "cell_type": "markdown",
   "id": "e5fea0d7-2d29-4163-a2bf-950a81ef34ca",
   "metadata": {},
   "source": [
    "#### part h"
   ]
  },
  {
   "cell_type": "code",
   "execution_count": 55,
   "id": "04f29adf-6de6-4ee0-977f-ac78c09b2b45",
   "metadata": {},
   "outputs": [],
   "source": [
    "badPressure = cardiodf[cardiodf['ap_lo'] > cardiodf['ap_hi']]"
   ]
  },
  {
   "cell_type": "code",
   "execution_count": 56,
   "id": "3e8ab0e5-e22f-46fc-aee7-45b30aaf688c",
   "metadata": {},
   "outputs": [
    {
     "data": {
      "text/html": [
       "<div>\n",
       "<style scoped>\n",
       "    .dataframe tbody tr th:only-of-type {\n",
       "        vertical-align: middle;\n",
       "    }\n",
       "\n",
       "    .dataframe tbody tr th {\n",
       "        vertical-align: top;\n",
       "    }\n",
       "\n",
       "    .dataframe thead th {\n",
       "        text-align: right;\n",
       "    }\n",
       "</style>\n",
       "<table border=\"1\" class=\"dataframe\">\n",
       "  <thead>\n",
       "    <tr style=\"text-align: right;\">\n",
       "      <th></th>\n",
       "      <th>id</th>\n",
       "      <th>age</th>\n",
       "      <th>gender</th>\n",
       "      <th>height</th>\n",
       "      <th>weight</th>\n",
       "      <th>ap_hi</th>\n",
       "      <th>ap_lo</th>\n",
       "      <th>cholesterol</th>\n",
       "      <th>gluc</th>\n",
       "      <th>smoke</th>\n",
       "      <th>alco</th>\n",
       "      <th>active</th>\n",
       "      <th>cardio</th>\n",
       "      <th>ageY</th>\n",
       "      <th>BMI</th>\n",
       "    </tr>\n",
       "  </thead>\n",
       "  <tbody>\n",
       "    <tr>\n",
       "      <th>228</th>\n",
       "      <td>314</td>\n",
       "      <td>17489</td>\n",
       "      <td>2</td>\n",
       "      <td>183</td>\n",
       "      <td>98.0</td>\n",
       "      <td>160</td>\n",
       "      <td>1100</td>\n",
       "      <td>1</td>\n",
       "      <td>2</td>\n",
       "      <td>1</td>\n",
       "      <td>0</td>\n",
       "      <td>1</td>\n",
       "      <td>1</td>\n",
       "      <td>47.9</td>\n",
       "      <td>29.263340</td>\n",
       "    </tr>\n",
       "    <tr>\n",
       "      <th>241</th>\n",
       "      <td>334</td>\n",
       "      <td>21932</td>\n",
       "      <td>2</td>\n",
       "      <td>157</td>\n",
       "      <td>60.0</td>\n",
       "      <td>160</td>\n",
       "      <td>1000</td>\n",
       "      <td>2</td>\n",
       "      <td>1</td>\n",
       "      <td>0</td>\n",
       "      <td>0</td>\n",
       "      <td>0</td>\n",
       "      <td>1</td>\n",
       "      <td>60.0</td>\n",
       "      <td>24.341758</td>\n",
       "    </tr>\n",
       "    <tr>\n",
       "      <th>260</th>\n",
       "      <td>357</td>\n",
       "      <td>18217</td>\n",
       "      <td>1</td>\n",
       "      <td>150</td>\n",
       "      <td>83.0</td>\n",
       "      <td>140</td>\n",
       "      <td>800</td>\n",
       "      <td>1</td>\n",
       "      <td>1</td>\n",
       "      <td>0</td>\n",
       "      <td>0</td>\n",
       "      <td>1</td>\n",
       "      <td>1</td>\n",
       "      <td>49.9</td>\n",
       "      <td>36.888889</td>\n",
       "    </tr>\n",
       "    <tr>\n",
       "      <th>329</th>\n",
       "      <td>458</td>\n",
       "      <td>23407</td>\n",
       "      <td>1</td>\n",
       "      <td>176</td>\n",
       "      <td>63.0</td>\n",
       "      <td>160</td>\n",
       "      <td>1000</td>\n",
       "      <td>2</td>\n",
       "      <td>2</td>\n",
       "      <td>0</td>\n",
       "      <td>0</td>\n",
       "      <td>0</td>\n",
       "      <td>1</td>\n",
       "      <td>64.1</td>\n",
       "      <td>20.338326</td>\n",
       "    </tr>\n",
       "    <tr>\n",
       "      <th>345</th>\n",
       "      <td>482</td>\n",
       "      <td>18704</td>\n",
       "      <td>1</td>\n",
       "      <td>154</td>\n",
       "      <td>81.0</td>\n",
       "      <td>140</td>\n",
       "      <td>1000</td>\n",
       "      <td>2</td>\n",
       "      <td>1</td>\n",
       "      <td>0</td>\n",
       "      <td>0</td>\n",
       "      <td>1</td>\n",
       "      <td>1</td>\n",
       "      <td>51.2</td>\n",
       "      <td>34.154158</td>\n",
       "    </tr>\n",
       "  </tbody>\n",
       "</table>\n",
       "</div>"
      ],
      "text/plain": [
       "      id    age  gender  height  weight  ap_hi  ap_lo  cholesterol  gluc  \\\n",
       "228  314  17489       2     183    98.0    160   1100            1     2   \n",
       "241  334  21932       2     157    60.0    160   1000            2     1   \n",
       "260  357  18217       1     150    83.0    140    800            1     1   \n",
       "329  458  23407       1     176    63.0    160   1000            2     2   \n",
       "345  482  18704       1     154    81.0    140   1000            2     1   \n",
       "\n",
       "     smoke  alco  active  cardio  ageY        BMI  \n",
       "228      1     0       1       1  47.9  29.263340  \n",
       "241      0     0       0       1  60.0  24.341758  \n",
       "260      0     0       1       1  49.9  36.888889  \n",
       "329      0     0       0       1  64.1  20.338326  \n",
       "345      0     0       1       1  51.2  34.154158  "
      ]
     },
     "execution_count": 56,
     "metadata": {},
     "output_type": "execute_result"
    }
   ],
   "source": [
    "badPressure.head()"
   ]
  },
  {
   "cell_type": "code",
   "execution_count": 57,
   "id": "61a21ae2-38d4-441f-9ad6-e3e38185e6fa",
   "metadata": {},
   "outputs": [],
   "source": [
    "badHeights = cardiodf[(cardiodf['height'] < cardiodf['height'].quantile(0.025)) | (cardiodf['height'] > cardiodf['height'].quantile(0.975))]"
   ]
  },
  {
   "cell_type": "code",
   "execution_count": 58,
   "id": "6b505f5c-6cb4-4121-8255-2d794d1dd457",
   "metadata": {},
   "outputs": [],
   "source": [
    "badWeights = cardiodf[(cardiodf['weight'] < cardiodf['weight'].quantile(0.025)) | (cardiodf['weight'] > cardiodf['weight'].quantile(0.975))]"
   ]
  },
  {
   "cell_type": "code",
   "execution_count": 59,
   "id": "ebb86b49-bc18-459a-80e3-aebb3d4c148b",
   "metadata": {},
   "outputs": [],
   "source": [
    "goodData = cardiodf[~(cardiodf['ap_lo'] > cardiodf['ap_hi']) & ~(cardiodf['weight'] < cardiodf['weight'].quantile(0.025)) & ~(cardiodf['weight'] > cardiodf['weight'].quantile(0.975)) & ~ ((cardiodf['height'] < cardiodf['height'].quantile(0.025)) | (cardiodf['height'] > cardiodf['height'].quantile(0.975)))]"
   ]
  },
  {
   "cell_type": "code",
   "execution_count": 60,
   "id": "5dfa4aee-1bdb-47fe-b04b-2bf7c0283b65",
   "metadata": {},
   "outputs": [
    {
     "data": {
      "text/plain": [
       "(70000, 15)"
      ]
     },
     "execution_count": 60,
     "metadata": {},
     "output_type": "execute_result"
    }
   ],
   "source": [
    "cardiodf.shape"
   ]
  },
  {
   "cell_type": "code",
   "execution_count": 61,
   "id": "748db9a7-894f-47e7-9240-641b571a627b",
   "metadata": {},
   "outputs": [
    {
     "data": {
      "text/plain": [
       "(63259, 15)"
      ]
     },
     "execution_count": 61,
     "metadata": {},
     "output_type": "execute_result"
    }
   ],
   "source": [
    "goodData.shape"
   ]
  },
  {
   "cell_type": "code",
   "execution_count": 62,
   "id": "ee4f3374-9825-46d5-94af-104d46c2c723",
   "metadata": {},
   "outputs": [
    {
     "data": {
      "text/plain": [
       "(1234, 15)"
      ]
     },
     "execution_count": 62,
     "metadata": {},
     "output_type": "execute_result"
    }
   ],
   "source": [
    "badPressure.shape"
   ]
  },
  {
   "cell_type": "code",
   "execution_count": 63,
   "id": "7c23843b-c0bb-438d-a535-dd0ac33ade55",
   "metadata": {},
   "outputs": [
    {
     "data": {
      "text/plain": [
       "(2976, 15)"
      ]
     },
     "execution_count": 63,
     "metadata": {},
     "output_type": "execute_result"
    }
   ],
   "source": [
    "badHeights.shape"
   ]
  },
  {
   "cell_type": "code",
   "execution_count": 64,
   "id": "13079cc0-6b25-418a-8606-50605c79dcff",
   "metadata": {},
   "outputs": [
    {
     "data": {
      "text/plain": [
       "(3103, 15)"
      ]
     },
     "execution_count": 64,
     "metadata": {},
     "output_type": "execute_result"
    }
   ],
   "source": [
    "badWeights.shape"
   ]
  },
  {
   "cell_type": "code",
   "execution_count": 65,
   "id": "3b243f85-82d0-4d6a-bbe6-8d6f55249ab0",
   "metadata": {},
   "outputs": [
    {
     "data": {
      "text/plain": [
       "9.629999999999999"
      ]
     },
     "execution_count": 65,
     "metadata": {},
     "output_type": "execute_result"
    }
   ],
   "source": [
    "(70000-63259)/70000 * 100 #calculate percentage of data filerted"
   ]
  },
  {
   "cell_type": "markdown",
   "id": "e2a632af-6962-4a89-a72c-3e9acb7f8f8f",
   "metadata": {},
   "source": [
    "- About 9.6% was filered out"
   ]
  },
  {
   "cell_type": "markdown",
   "id": "b5cee1e1-b0ed-4c07-8cf9-4d55a0c6590a",
   "metadata": {},
   "source": [
    "## Question 3\n",
    "#### Part a"
   ]
  },
  {
   "cell_type": "code",
   "execution_count": 66,
   "id": "78ca4168-63b7-47be-bb88-715ee7e652af",
   "metadata": {},
   "outputs": [
    {
     "data": {
      "image/png": "[encoded data removed]",
      "text/plain": [
       "<Figure size 640x480 with 2 Axes>"
      ]
     },
     "metadata": {},
     "output_type": "display_data"
    }
   ],
   "source": [
    "import matplotlib.pyplot as plt\n",
    "correlation_matrix = goodData.corr(method = 'pearson')\n",
    "sns.heatmap(correlation_matrix, cmap = 'viridis', annot = True, fmt = '.1f')\n",
    "plt.show()"
   ]
  },
  {
   "cell_type": "markdown",
   "id": "2245ac1c-4b66-4154-9ddc-b58eab501f1e",
   "metadata": {},
   "source": [
    "#### Part b"
   ]
  },
  {
   "cell_type": "markdown",
   "id": "5cda4920-f895-4dbc-9b45-c532daad9bb0",
   "metadata": {},
   "source": [
    "Weight + BMI have the largest correlation"
   ]
  },
  {
   "cell_type": "code",
   "execution_count": 67,
   "id": "9fb8703c-adc2-422b-bbcf-0c57496fcc71",
   "metadata": {},
   "outputs": [
    {
     "name": "stdout",
     "output_type": "stream",
     "text": [
      "age     ageY    0.999991\n",
      "ageY    age     0.999991\n",
      "weight  BMI     0.862657\n",
      "dtype: float64\n"
     ]
    }
   ],
   "source": [
    "correlation_values = correlation_matrix.unstack()\n",
    "correlation_values = correlation_values[correlation_values !=1]\n",
    "sorted_corr_values = correlation_values.sort_values(ascending=False)\n",
    "print(sorted_corr_values.head(3))"
   ]
  },
  {
   "cell_type": "code",
   "execution_count": 75,
   "id": "45ce7938-49b8-4c54-aeba-001c7c9fdea8",
   "metadata": {},
   "outputs": [
    {
     "name": "stdout",
     "output_type": "stream",
     "text": [
      "Index(['id', 'age', 'gender', 'height', 'weight', 'ap_hi', 'ap_lo',\n",
      "       'cholesterol', 'gluc', 'smoke', 'alco', 'active', 'cardio', 'ageY',\n",
      "       'BMI'],\n",
      "      dtype='object')\n"
     ]
    }
   ],
   "source": [
    "print(goodData.columns)\n",
    "copyData = goodData.copy()"
   ]
  },
  {
   "cell_type": "markdown",
   "id": "ba27e1d3-6eef-4e64-b02e-51e2021c2085",
   "metadata": {},
   "source": [
    "#### Part c"
   ]
  },
  {
   "cell_type": "code",
   "execution_count": 69,
   "id": "a85c6791-e42c-43a3-a675-b90b79a42cc5",
   "metadata": {},
   "outputs": [
    {
     "data": {
      "image/png": "[encoded data removed]",
      "text/plain": [
       "<Figure size 800x600 with 1 Axes>"
      ]
     },
     "metadata": {},
     "output_type": "display_data"
    }
   ],
   "source": [
    "copyData.loc[:,'gender_mapped'] = goodData['gender'].map({1: 'Female', 2: 'Male'})\n",
    "\n",
    "df_long = pd.melt(copyData, id_vars=['gender_mapped'], value_vars=['height'])\n",
    "\n",
    "# Create the violin plot\n",
    "plt.figure(figsize=(8, 6))\n",
    "sns.violinplot(x='gender_mapped', y='value', data=df_long, hue='gender_mapped', density_norm='count')\n",
    "\n",
    "# Show the plot\n",
    "plt.title(\"Height Distribution by Gender\")\n",
    "plt.show()"
   ]
  },
  {
   "cell_type": "code",
   "execution_count": 71,
   "id": "c8099667-74f3-4075-8cdd-a2a1a848f44f",
   "metadata": {},
   "outputs": [
    {
     "data": {
      "image/png": "[encoded data removed]",
      "text/plain": [
       "<Figure size 640x480 with 1 Axes>"
      ]
     },
     "metadata": {},
     "output_type": "display_data"
    }
   ],
   "source": [
    "sns.kdeplot(data = copyData[copyData['gender_mapped'] == 'Female'], x = 'height', label = 'Female', color = 'pink')\n",
    "sns.kdeplot(data = copyData[copyData['gender_mapped'] == 'Male'], x = 'height', label = 'Male')\n",
    "plt.legend()\n",
    "plt.show()"
   ]
  },
  {
   "cell_type": "code",
   "execution_count": 74,
   "id": "d8de0a28-71eb-442e-a39c-04f9dc079291",
   "metadata": {},
   "outputs": [
    {
     "data": {
      "image/png": "[encoded data removed]",
      "text/plain": [
       "<Figure size 640x480 with 2 Axes>"
      ]
     },
     "metadata": {},
     "output_type": "display_data"
    }
   ],
   "source": [
    "correlation_matrix2 = goodData.corr(method = 'spearman')\n",
    "sns.heatmap(correlation_matrix2, cmap = 'viridis', annot = True, fmt = '.1f')\n",
    "plt.show()"
   ]
  },
  {
   "cell_type": "code",
   "execution_count": 77,
   "id": "f5786535-3dc2-421b-9441-f57468d1c180",
   "metadata": {},
   "outputs": [
    {
     "data": {
      "image/png": "[encoded data removed]",
      "text/plain": [
       "<Figure size 640x480 with 1 Axes>"
      ]
     },
     "metadata": {},
     "output_type": "display_data"
    }
   ],
   "source": [
    "sns.countplot(data=goodData, x='age', hue='cardio')\n",
    "plt.title(\"Number of People by Age and Cardio Class\")\n",
    "plt.xlabel(\"Age\")\n",
    "plt.ylabel(\"Number of People\")\n",
    "plt.show()\n"
   ]
  },
  {
   "cell_type": "code",
   "execution_count": 78,
   "id": "090d964e-096e-4848-a57b-f94e44755193",
   "metadata": {},
   "outputs": [
    {
     "data": {
      "text/html": [
       "<div>\n",
       "<style scoped>\n",
       "    .dataframe tbody tr th:only-of-type {\n",
       "        vertical-align: middle;\n",
       "    }\n",
       "\n",
       "    .dataframe tbody tr th {\n",
       "        vertical-align: top;\n",
       "    }\n",
       "\n",
       "    .dataframe thead th {\n",
       "        text-align: right;\n",
       "    }\n",
       "</style>\n",
       "<table border=\"1\" class=\"dataframe\">\n",
       "  <thead>\n",
       "    <tr style=\"text-align: right;\">\n",
       "      <th></th>\n",
       "      <th>id</th>\n",
       "      <th>age</th>\n",
       "      <th>gender</th>\n",
       "      <th>height</th>\n",
       "      <th>weight</th>\n",
       "      <th>ap_hi</th>\n",
       "      <th>ap_lo</th>\n",
       "      <th>cholesterol</th>\n",
       "      <th>gluc</th>\n",
       "      <th>smoke</th>\n",
       "      <th>alco</th>\n",
       "      <th>active</th>\n",
       "      <th>cardio</th>\n",
       "      <th>ageY</th>\n",
       "      <th>BMI</th>\n",
       "    </tr>\n",
       "  </thead>\n",
       "  <tbody>\n",
       "    <tr>\n",
       "      <th>0</th>\n",
       "      <td>0</td>\n",
       "      <td>18393</td>\n",
       "      <td>2</td>\n",
       "      <td>168</td>\n",
       "      <td>62.0</td>\n",
       "      <td>110</td>\n",
       "      <td>80</td>\n",
       "      <td>1</td>\n",
       "      <td>1</td>\n",
       "      <td>0</td>\n",
       "      <td>0</td>\n",
       "      <td>1</td>\n",
       "      <td>0</td>\n",
       "      <td>50.4</td>\n",
       "      <td>21.967120</td>\n",
       "    </tr>\n",
       "    <tr>\n",
       "      <th>1</th>\n",
       "      <td>1</td>\n",
       "      <td>20228</td>\n",
       "      <td>1</td>\n",
       "      <td>156</td>\n",
       "      <td>85.0</td>\n",
       "      <td>140</td>\n",
       "      <td>90</td>\n",
       "      <td>3</td>\n",
       "      <td>1</td>\n",
       "      <td>0</td>\n",
       "      <td>0</td>\n",
       "      <td>1</td>\n",
       "      <td>1</td>\n",
       "      <td>55.4</td>\n",
       "      <td>34.927679</td>\n",
       "    </tr>\n",
       "    <tr>\n",
       "      <th>2</th>\n",
       "      <td>2</td>\n",
       "      <td>18857</td>\n",
       "      <td>1</td>\n",
       "      <td>165</td>\n",
       "      <td>64.0</td>\n",
       "      <td>130</td>\n",
       "      <td>70</td>\n",
       "      <td>3</td>\n",
       "      <td>1</td>\n",
       "      <td>0</td>\n",
       "      <td>0</td>\n",
       "      <td>0</td>\n",
       "      <td>1</td>\n",
       "      <td>51.6</td>\n",
       "      <td>23.507805</td>\n",
       "    </tr>\n",
       "    <tr>\n",
       "      <th>3</th>\n",
       "      <td>3</td>\n",
       "      <td>17623</td>\n",
       "      <td>2</td>\n",
       "      <td>169</td>\n",
       "      <td>82.0</td>\n",
       "      <td>150</td>\n",
       "      <td>100</td>\n",
       "      <td>1</td>\n",
       "      <td>1</td>\n",
       "      <td>0</td>\n",
       "      <td>0</td>\n",
       "      <td>1</td>\n",
       "      <td>1</td>\n",
       "      <td>48.2</td>\n",
       "      <td>28.710479</td>\n",
       "    </tr>\n",
       "    <tr>\n",
       "      <th>4</th>\n",
       "      <td>4</td>\n",
       "      <td>17474</td>\n",
       "      <td>1</td>\n",
       "      <td>156</td>\n",
       "      <td>56.0</td>\n",
       "      <td>100</td>\n",
       "      <td>60</td>\n",
       "      <td>1</td>\n",
       "      <td>1</td>\n",
       "      <td>0</td>\n",
       "      <td>0</td>\n",
       "      <td>0</td>\n",
       "      <td>0</td>\n",
       "      <td>47.8</td>\n",
       "      <td>23.011177</td>\n",
       "    </tr>\n",
       "  </tbody>\n",
       "</table>\n",
       "</div>"
      ],
      "text/plain": [
       "   id    age  gender  height  weight  ap_hi  ap_lo  cholesterol  gluc  smoke  \\\n",
       "0   0  18393       2     168    62.0    110     80            1     1      0   \n",
       "1   1  20228       1     156    85.0    140     90            3     1      0   \n",
       "2   2  18857       1     165    64.0    130     70            3     1      0   \n",
       "3   3  17623       2     169    82.0    150    100            1     1      0   \n",
       "4   4  17474       1     156    56.0    100     60            1     1      0   \n",
       "\n",
       "   alco  active  cardio  ageY        BMI  \n",
       "0     0       1       0  50.4  21.967120  \n",
       "1     0       1       1  55.4  34.927679  \n",
       "2     0       0       1  51.6  23.507805  \n",
       "3     0       1       1  48.2  28.710479  \n",
       "4     0       0       0  47.8  23.011177  "
      ]
     },
     "execution_count": 78,
     "metadata": {},
     "output_type": "execute_result"
    }
   ],
   "source": [
    "goodData.head()"
   ]
  },
  {
   "cell_type": "code",
   "execution_count": 84,
   "id": "bf25c619-d0c5-4a4b-bc15-8264bb9ce484",
   "metadata": {},
   "outputs": [
    {
     "name": "stdout",
     "output_type": "stream",
     "text": [
      "The smallest age at which the number of people with CVD outnumbers those without is: 44.8\n"
     ]
    }
   ],
   "source": [
    "age_grouped = goodData.groupby(['ageY', 'cardio']).size().unstack(fill_value=0)\n",
    "\n",
    "# Find the smallest age where people with CVD outnumber those without CVD\n",
    "age_grouped['Difference'] = age_grouped[1] - age_grouped[0]\n",
    "age_grouped = age_grouped[age_grouped['Difference'] > 0]\n",
    "\n",
    "# The smallest age where the number of people with CVD outnumbers the number without\n",
    "smallest_age = age_grouped.index.min()\n",
    "\n",
    "print(f\"The smallest age at which the number of people with CVD outnumbers those without is: {smallest_age}\")"
   ]
  },
  {
   "cell_type": "code",
   "execution_count": 87,
   "id": "11d1050d-2a5c-4fd2-9ece-dda33e053c5a",
   "metadata": {},
   "outputs": [
    {
     "data": {
      "image/png": "[encoded data removed]",
      "text/plain": [
       "<Figure size 640x480 with 1 Axes>"
      ]
     },
     "metadata": {},
     "output_type": "display_data"
    }
   ],
   "source": [
    "sns.lineplot(data=age_grouped[1], label = 'With CVD', color = 'red')\n",
    "sns.lineplot(data=age_grouped[0], label = 'Without CVD', color = 'blue')\n",
    "plt.title(\"Comparsison between number of people with and without CVD over time\")\n",
    "plt.xlabel('Age in Years')\n",
    "plt.ylabel('Number of People')\n",
    "plt.legend()\n",
    "plt.show()"
   ]
  },
  {
   "cell_type": "code",
   "execution_count": null,
   "id": "26c11bcb-80b2-40d3-85dd-f2f4534e709c",
   "metadata": {},
   "outputs": [],
   "source": []
  }
 ],
 "metadata": {
  "kernelspec": {
   "display_name": "Python 3 (ipykernel)",
   "language": "python",
   "name": "python3"
  },
  "language_info": {
   "codemirror_mode": {
    "name": "ipython",
    "version": 3
   },
   "file_extension": ".py",
   "mimetype": "text/x-python",
   "name": "python",
   "nbconvert_exporter": "python",
   "pygments_lexer": "ipython3",
   "version": "3.12.8"
  }
 },
 "nbformat": 4,
 "nbformat_minor": 5
}
